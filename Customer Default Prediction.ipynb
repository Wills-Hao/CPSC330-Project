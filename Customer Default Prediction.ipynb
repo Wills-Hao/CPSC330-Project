{
 "cells": [
  {
   "cell_type": "markdown",
   "metadata": {},
   "source": [
    "# Customer Default Prediction"
   ]
  },
  {
   "cell_type": "code",
   "execution_count": 1,
   "metadata": {},
   "outputs": [],
   "source": [
    "import matplotlib.pyplot as plt\n",
    "import pandas as pd\n",
    "from hashlib import sha1\n",
    "\n",
    "import seaborn as sns\n",
    "import pandas as pd\n",
    "from sklearn.compose import make_column_transformer\n",
    "from sklearn.dummy import DummyClassifier\n",
    "from sklearn.ensemble import RandomForestClassifier\n",
    "from sklearn.linear_model import LogisticRegression\n",
    "from sklearn.metrics import (\n",
    "    classification_report,\n",
    "    f1_score,\n",
    "    precision_score,\n",
    "    recall_score,\n",
    ")\n",
    "from sklearn.model_selection import (\n",
    "    RandomizedSearchCV,\n",
    "    cross_val_score,\n",
    "    cross_validate,\n",
    "    train_test_split,\n",
    ")\n",
    "from sklearn.pipeline import Pipeline, make_pipeline\n",
    "from sklearn.preprocessing import OneHotEncoder, StandardScaler"
   ]
  },
  {
   "cell_type": "markdown",
   "metadata": {},
   "source": [
    "**Problem Description**\n",
    "\n",
    "A payment default usually happens after multiple payments on a loan or other debt are missed. This project is aimed at predicting the case of customers default payments.\n",
    "\n",
    "**Dataset**\n",
    "\n",
    "This dataset contains information on default payments, demographic factors, credit data, history of payment, and bill statements of credit card clients in Taiwan from April 2005 to September 2005.\n",
    "\n",
    "Dataset source: https://www.kaggle.com/datasets/uciml/default-of-credit-card-clients-dataset?datasetId=306&sortBy=voteCount&language=Python\n",
    "\n",
    "**Attributes:**\n",
    "- `ID`: ID of each client\n",
    "- `LIMIT_BAL`: Amount of given credit in NT dollars (includes individual and family/supplementary credit)\n",
    "- `SEX`: Gender (1=male, 2=female)\n",
    "- `EDUCATION`: Highest education (1=graduate school, 2=university, 3=high school, 4=others, 5=unknown, 6=unknown)\n",
    "- `MARRIAGE`: Marital status (1=married, 2=single, 3=others)\n",
    "- `AGE`: Age in years\n",
    "\n",
    "To be more readable, I changed the following column names with their corresponding months:\n",
    "\n",
    "- `PAY_9`: Repayment status in September, 2005 (-1=pay duly, 1=payment delay for one month, 2=payment delay for two months, ... 8=payment delay for eight months, 9=payment delay for nine months and above)\n",
    "- `PAY_8`: Repayment status in August, 2005 (scale same as above)\n",
    "- `PAY_7`: Repayment status in July, 2005 (scale same as above)\n",
    "- `PAY_6`: Repayment status in June, 2005 (scale same as above)\n",
    "- `PAY_5`: Repayment status in May, 2005 (scale same as above)\n",
    "- `PAY_4`: Repayment status in April, 2005 (scale same as above)\n",
    "- `BILL_AMT_9`: Amount of bill statement in September, 2005 (NT dollar)\n",
    "- `BILL_AMT_8`: Amount of bill statement in August, 2005 (NT dollar)\n",
    "- `BILL_AMT_7`: Amount of bill statement in July, 2005 (NT dollar)\n",
    "- `BILL_AMT_6`: Amount of bill statement in June, 2005 (NT dollar)\n",
    "- `BILL_AMT_5`: Amount of bill statement in May, 2005 (NT dollar)\n",
    "- `BILL_AMT_4`: Amount of bill statement in April, 2005 (NT dollar)\n",
    "- `PAY_AMT_9`: Amount of previous payment in September, 2005 (NT dollar)\n",
    "- `PAY_AMT_8`: Amount of previous payment in August, 2005 (NT dollar)\n",
    "- `PAY_AMT_7`: Amount of previous payment in July, 2005 (NT dollar)\n",
    "- `PAY_AMT_6`: Amount of previous payment in June, 2005 (NT dollar)\n",
    "- `PAY_AMT_5`: Amount of previous payment in May, 2005 (NT dollar)\n",
    "- `PAY_AMT_4`: Amount of previous payment in April"
   ]
  },
  {
   "cell_type": "code",
   "execution_count": 2,
   "metadata": {
    "tags": []
   },
   "outputs": [
    {
     "data": {
      "text/html": [
       "<div>\n",
       "<style scoped>\n",
       "    .dataframe tbody tr th:only-of-type {\n",
       "        vertical-align: middle;\n",
       "    }\n",
       "\n",
       "    .dataframe tbody tr th {\n",
       "        vertical-align: top;\n",
       "    }\n",
       "\n",
       "    .dataframe thead th {\n",
       "        text-align: right;\n",
       "    }\n",
       "</style>\n",
       "<table border=\"1\" class=\"dataframe\">\n",
       "  <thead>\n",
       "    <tr style=\"text-align: right;\">\n",
       "      <th></th>\n",
       "      <th>ID</th>\n",
       "      <th>LIMIT_BAL</th>\n",
       "      <th>SEX</th>\n",
       "      <th>EDUCATION</th>\n",
       "      <th>MARRIAGE</th>\n",
       "      <th>AGE</th>\n",
       "      <th>PAY_9</th>\n",
       "      <th>PAY_8</th>\n",
       "      <th>PAY_7</th>\n",
       "      <th>PAY_6</th>\n",
       "      <th>...</th>\n",
       "      <th>BILL_AMT_6</th>\n",
       "      <th>BILL_AMT_5</th>\n",
       "      <th>BILL_AMT_4</th>\n",
       "      <th>PAY_AMT_9</th>\n",
       "      <th>PAY_AMT_8</th>\n",
       "      <th>PAY_AMT_7</th>\n",
       "      <th>PAY_AMT_6</th>\n",
       "      <th>PAY_AMT_5</th>\n",
       "      <th>PAY_AMT_4</th>\n",
       "      <th>default_pay</th>\n",
       "    </tr>\n",
       "  </thead>\n",
       "  <tbody>\n",
       "    <tr>\n",
       "      <th>0</th>\n",
       "      <td>1</td>\n",
       "      <td>20000.0</td>\n",
       "      <td>2</td>\n",
       "      <td>2</td>\n",
       "      <td>1</td>\n",
       "      <td>24</td>\n",
       "      <td>2</td>\n",
       "      <td>2</td>\n",
       "      <td>-1</td>\n",
       "      <td>-1</td>\n",
       "      <td>...</td>\n",
       "      <td>0.0</td>\n",
       "      <td>0.0</td>\n",
       "      <td>0.0</td>\n",
       "      <td>0.0</td>\n",
       "      <td>689.0</td>\n",
       "      <td>0.0</td>\n",
       "      <td>0.0</td>\n",
       "      <td>0.0</td>\n",
       "      <td>0.0</td>\n",
       "      <td>1</td>\n",
       "    </tr>\n",
       "    <tr>\n",
       "      <th>1</th>\n",
       "      <td>2</td>\n",
       "      <td>120000.0</td>\n",
       "      <td>2</td>\n",
       "      <td>2</td>\n",
       "      <td>2</td>\n",
       "      <td>26</td>\n",
       "      <td>-1</td>\n",
       "      <td>2</td>\n",
       "      <td>0</td>\n",
       "      <td>0</td>\n",
       "      <td>...</td>\n",
       "      <td>3272.0</td>\n",
       "      <td>3455.0</td>\n",
       "      <td>3261.0</td>\n",
       "      <td>0.0</td>\n",
       "      <td>1000.0</td>\n",
       "      <td>1000.0</td>\n",
       "      <td>1000.0</td>\n",
       "      <td>0.0</td>\n",
       "      <td>2000.0</td>\n",
       "      <td>1</td>\n",
       "    </tr>\n",
       "    <tr>\n",
       "      <th>2</th>\n",
       "      <td>3</td>\n",
       "      <td>90000.0</td>\n",
       "      <td>2</td>\n",
       "      <td>2</td>\n",
       "      <td>2</td>\n",
       "      <td>34</td>\n",
       "      <td>0</td>\n",
       "      <td>0</td>\n",
       "      <td>0</td>\n",
       "      <td>0</td>\n",
       "      <td>...</td>\n",
       "      <td>14331.0</td>\n",
       "      <td>14948.0</td>\n",
       "      <td>15549.0</td>\n",
       "      <td>1518.0</td>\n",
       "      <td>1500.0</td>\n",
       "      <td>1000.0</td>\n",
       "      <td>1000.0</td>\n",
       "      <td>1000.0</td>\n",
       "      <td>5000.0</td>\n",
       "      <td>0</td>\n",
       "    </tr>\n",
       "    <tr>\n",
       "      <th>3</th>\n",
       "      <td>4</td>\n",
       "      <td>50000.0</td>\n",
       "      <td>2</td>\n",
       "      <td>2</td>\n",
       "      <td>1</td>\n",
       "      <td>37</td>\n",
       "      <td>0</td>\n",
       "      <td>0</td>\n",
       "      <td>0</td>\n",
       "      <td>0</td>\n",
       "      <td>...</td>\n",
       "      <td>28314.0</td>\n",
       "      <td>28959.0</td>\n",
       "      <td>29547.0</td>\n",
       "      <td>2000.0</td>\n",
       "      <td>2019.0</td>\n",
       "      <td>1200.0</td>\n",
       "      <td>1100.0</td>\n",
       "      <td>1069.0</td>\n",
       "      <td>1000.0</td>\n",
       "      <td>0</td>\n",
       "    </tr>\n",
       "    <tr>\n",
       "      <th>4</th>\n",
       "      <td>5</td>\n",
       "      <td>50000.0</td>\n",
       "      <td>1</td>\n",
       "      <td>2</td>\n",
       "      <td>1</td>\n",
       "      <td>57</td>\n",
       "      <td>-1</td>\n",
       "      <td>0</td>\n",
       "      <td>-1</td>\n",
       "      <td>0</td>\n",
       "      <td>...</td>\n",
       "      <td>20940.0</td>\n",
       "      <td>19146.0</td>\n",
       "      <td>19131.0</td>\n",
       "      <td>2000.0</td>\n",
       "      <td>36681.0</td>\n",
       "      <td>10000.0</td>\n",
       "      <td>9000.0</td>\n",
       "      <td>689.0</td>\n",
       "      <td>679.0</td>\n",
       "      <td>0</td>\n",
       "    </tr>\n",
       "    <tr>\n",
       "      <th>5</th>\n",
       "      <td>6</td>\n",
       "      <td>50000.0</td>\n",
       "      <td>1</td>\n",
       "      <td>1</td>\n",
       "      <td>2</td>\n",
       "      <td>37</td>\n",
       "      <td>0</td>\n",
       "      <td>0</td>\n",
       "      <td>0</td>\n",
       "      <td>0</td>\n",
       "      <td>...</td>\n",
       "      <td>19394.0</td>\n",
       "      <td>19619.0</td>\n",
       "      <td>20024.0</td>\n",
       "      <td>2500.0</td>\n",
       "      <td>1815.0</td>\n",
       "      <td>657.0</td>\n",
       "      <td>1000.0</td>\n",
       "      <td>1000.0</td>\n",
       "      <td>800.0</td>\n",
       "      <td>0</td>\n",
       "    </tr>\n",
       "    <tr>\n",
       "      <th>6</th>\n",
       "      <td>7</td>\n",
       "      <td>500000.0</td>\n",
       "      <td>1</td>\n",
       "      <td>1</td>\n",
       "      <td>2</td>\n",
       "      <td>29</td>\n",
       "      <td>0</td>\n",
       "      <td>0</td>\n",
       "      <td>0</td>\n",
       "      <td>0</td>\n",
       "      <td>...</td>\n",
       "      <td>542653.0</td>\n",
       "      <td>483003.0</td>\n",
       "      <td>473944.0</td>\n",
       "      <td>55000.0</td>\n",
       "      <td>40000.0</td>\n",
       "      <td>38000.0</td>\n",
       "      <td>20239.0</td>\n",
       "      <td>13750.0</td>\n",
       "      <td>13770.0</td>\n",
       "      <td>0</td>\n",
       "    </tr>\n",
       "    <tr>\n",
       "      <th>7</th>\n",
       "      <td>8</td>\n",
       "      <td>100000.0</td>\n",
       "      <td>2</td>\n",
       "      <td>2</td>\n",
       "      <td>2</td>\n",
       "      <td>23</td>\n",
       "      <td>0</td>\n",
       "      <td>-1</td>\n",
       "      <td>-1</td>\n",
       "      <td>0</td>\n",
       "      <td>...</td>\n",
       "      <td>221.0</td>\n",
       "      <td>-159.0</td>\n",
       "      <td>567.0</td>\n",
       "      <td>380.0</td>\n",
       "      <td>601.0</td>\n",
       "      <td>0.0</td>\n",
       "      <td>581.0</td>\n",
       "      <td>1687.0</td>\n",
       "      <td>1542.0</td>\n",
       "      <td>0</td>\n",
       "    </tr>\n",
       "    <tr>\n",
       "      <th>8</th>\n",
       "      <td>9</td>\n",
       "      <td>140000.0</td>\n",
       "      <td>2</td>\n",
       "      <td>3</td>\n",
       "      <td>1</td>\n",
       "      <td>28</td>\n",
       "      <td>0</td>\n",
       "      <td>0</td>\n",
       "      <td>2</td>\n",
       "      <td>0</td>\n",
       "      <td>...</td>\n",
       "      <td>12211.0</td>\n",
       "      <td>11793.0</td>\n",
       "      <td>3719.0</td>\n",
       "      <td>3329.0</td>\n",
       "      <td>0.0</td>\n",
       "      <td>432.0</td>\n",
       "      <td>1000.0</td>\n",
       "      <td>1000.0</td>\n",
       "      <td>1000.0</td>\n",
       "      <td>0</td>\n",
       "    </tr>\n",
       "    <tr>\n",
       "      <th>9</th>\n",
       "      <td>10</td>\n",
       "      <td>20000.0</td>\n",
       "      <td>1</td>\n",
       "      <td>3</td>\n",
       "      <td>2</td>\n",
       "      <td>35</td>\n",
       "      <td>-2</td>\n",
       "      <td>-2</td>\n",
       "      <td>-2</td>\n",
       "      <td>-2</td>\n",
       "      <td>...</td>\n",
       "      <td>0.0</td>\n",
       "      <td>13007.0</td>\n",
       "      <td>13912.0</td>\n",
       "      <td>0.0</td>\n",
       "      <td>0.0</td>\n",
       "      <td>0.0</td>\n",
       "      <td>13007.0</td>\n",
       "      <td>1122.0</td>\n",
       "      <td>0.0</td>\n",
       "      <td>0</td>\n",
       "    </tr>\n",
       "  </tbody>\n",
       "</table>\n",
       "<p>10 rows × 25 columns</p>\n",
       "</div>"
      ],
      "text/plain": [
       "   ID  LIMIT_BAL  SEX  EDUCATION  MARRIAGE  AGE  PAY_9  PAY_8  PAY_7  PAY_6  \\\n",
       "0   1    20000.0    2          2         1   24      2      2     -1     -1   \n",
       "1   2   120000.0    2          2         2   26     -1      2      0      0   \n",
       "2   3    90000.0    2          2         2   34      0      0      0      0   \n",
       "3   4    50000.0    2          2         1   37      0      0      0      0   \n",
       "4   5    50000.0    1          2         1   57     -1      0     -1      0   \n",
       "5   6    50000.0    1          1         2   37      0      0      0      0   \n",
       "6   7   500000.0    1          1         2   29      0      0      0      0   \n",
       "7   8   100000.0    2          2         2   23      0     -1     -1      0   \n",
       "8   9   140000.0    2          3         1   28      0      0      2      0   \n",
       "9  10    20000.0    1          3         2   35     -2     -2     -2     -2   \n",
       "\n",
       "   ...  BILL_AMT_6  BILL_AMT_5  BILL_AMT_4  PAY_AMT_9  PAY_AMT_8  PAY_AMT_7  \\\n",
       "0  ...         0.0         0.0         0.0        0.0      689.0        0.0   \n",
       "1  ...      3272.0      3455.0      3261.0        0.0     1000.0     1000.0   \n",
       "2  ...     14331.0     14948.0     15549.0     1518.0     1500.0     1000.0   \n",
       "3  ...     28314.0     28959.0     29547.0     2000.0     2019.0     1200.0   \n",
       "4  ...     20940.0     19146.0     19131.0     2000.0    36681.0    10000.0   \n",
       "5  ...     19394.0     19619.0     20024.0     2500.0     1815.0      657.0   \n",
       "6  ...    542653.0    483003.0    473944.0    55000.0    40000.0    38000.0   \n",
       "7  ...       221.0      -159.0       567.0      380.0      601.0        0.0   \n",
       "8  ...     12211.0     11793.0      3719.0     3329.0        0.0      432.0   \n",
       "9  ...         0.0     13007.0     13912.0        0.0        0.0        0.0   \n",
       "\n",
       "   PAY_AMT_6  PAY_AMT_5  PAY_AMT_4  default_pay  \n",
       "0        0.0        0.0        0.0            1  \n",
       "1     1000.0        0.0     2000.0            1  \n",
       "2     1000.0     1000.0     5000.0            0  \n",
       "3     1100.0     1069.0     1000.0            0  \n",
       "4     9000.0      689.0      679.0            0  \n",
       "5     1000.0     1000.0      800.0            0  \n",
       "6    20239.0    13750.0    13770.0            0  \n",
       "7      581.0     1687.0     1542.0            0  \n",
       "8     1000.0     1000.0     1000.0            0  \n",
       "9    13007.0     1122.0        0.0            0  \n",
       "\n",
       "[10 rows x 25 columns]"
      ]
     },
     "execution_count": 2,
     "metadata": {},
     "output_type": "execute_result"
    }
   ],
   "source": [
    "credit_card_df = pd.read_csv(\"data/UCI_Credit_Card.csv\")\n",
    "credit_card_df = credit_card_df.rename(columns = {'default.payment.next.month':'default_pay',\n",
    "                                                  'PAY_0':'PAY_9','PAY_2':'PAY_8','PAY_3':'PAY_7','PAY_4':'PAY_6','PAY_5':'PAY_5','PAY_6':'PAY_4',\n",
    "                                                  'BILL_AMT1': 'BILL_AMT_9','BILL_AMT2': 'BILL_AMT_8','BILL_AMT3': 'BILL_AMT_7','BILL_AMT4': 'BILL_AMT_6','BILL_AMT5': 'BILL_AMT_5','BILL_AMT6': 'BILL_AMT_4',\n",
    "                                                  'PAY_AMT1': 'PAY_AMT_9','PAY_AMT2': 'PAY_AMT_8','PAY_AMT3': 'PAY_AMT_7','PAY_AMT4': 'PAY_AMT_6','PAY_AMT5': 'PAY_AMT_5','PAY_AMT6': 'PAY_AMT_4'})\n",
    "credit_card_df.head(10)"
   ]
  },
  {
   "cell_type": "markdown",
   "metadata": {},
   "source": [
    "<!-- END QUESTION -->\n",
    "\n",
    "<br><br>"
   ]
  },
  {
   "cell_type": "markdown",
   "metadata": {
    "tags": []
   },
   "source": [
    "## Data Wrangling "
   ]
  },
  {
   "cell_type": "code",
   "execution_count": 3,
   "metadata": {
    "tags": []
   },
   "outputs": [
    {
     "name": "stdout",
     "output_type": "stream",
     "text": [
      "<class 'pandas.core.frame.DataFrame'>\n",
      "RangeIndex: 30000 entries, 0 to 29999\n",
      "Data columns (total 25 columns):\n",
      " #   Column       Non-Null Count  Dtype  \n",
      "---  ------       --------------  -----  \n",
      " 0   ID           30000 non-null  int64  \n",
      " 1   LIMIT_BAL    30000 non-null  float64\n",
      " 2   SEX          30000 non-null  int64  \n",
      " 3   EDUCATION    30000 non-null  int64  \n",
      " 4   MARRIAGE     30000 non-null  int64  \n",
      " 5   AGE          30000 non-null  int64  \n",
      " 6   PAY_9        30000 non-null  int64  \n",
      " 7   PAY_8        30000 non-null  int64  \n",
      " 8   PAY_7        30000 non-null  int64  \n",
      " 9   PAY_6        30000 non-null  int64  \n",
      " 10  PAY_5        30000 non-null  int64  \n",
      " 11  PAY_4        30000 non-null  int64  \n",
      " 12  BILL_AMT_9   30000 non-null  float64\n",
      " 13  BILL_AMT_8   30000 non-null  float64\n",
      " 14  BILL_AMT_7   30000 non-null  float64\n",
      " 15  BILL_AMT_6   30000 non-null  float64\n",
      " 16  BILL_AMT_5   30000 non-null  float64\n",
      " 17  BILL_AMT_4   30000 non-null  float64\n",
      " 18  PAY_AMT_9    30000 non-null  float64\n",
      " 19  PAY_AMT_8    30000 non-null  float64\n",
      " 20  PAY_AMT_7    30000 non-null  float64\n",
      " 21  PAY_AMT_6    30000 non-null  float64\n",
      " 22  PAY_AMT_5    30000 non-null  float64\n",
      " 23  PAY_AMT_4    30000 non-null  float64\n",
      " 24  default_pay  30000 non-null  int64  \n",
      "dtypes: float64(13), int64(12)\n",
      "memory usage: 5.7 MB\n"
     ]
    }
   ],
   "source": [
    "credit_card_df.info()"
   ]
  },
  {
   "cell_type": "markdown",
   "metadata": {},
   "source": [
    "From the `info()`, we can see all columns are the numeric. However, it makes no sense to treat `SEX`, `EDUCATION`, `MARRIAGE` and `default_pay` as numeric since each of them only have limited number of unique values as below shows."
   ]
  },
  {
   "cell_type": "code",
   "execution_count": 4,
   "metadata": {
    "tags": []
   },
   "outputs": [
    {
     "name": "stdout",
     "output_type": "stream",
     "text": [
      "The unique values in column 'SEX':\n",
      " [2 1]\n",
      "\n",
      "The unique values in column 'EDUCATION':\n",
      " [2 1 3 5 4 6 0]\n",
      "\n",
      "The unique values in column 'MARRIAGE':\n",
      " [1 2 3 0]\n",
      "\n",
      "The unique values in column 'default_pay':\n",
      " [1 0]\n",
      "\n"
     ]
    }
   ],
   "source": [
    "categorical_cols = ['SEX', 'EDUCATION', 'MARRIAGE', 'default_pay']\n",
    "\n",
    "for col in categorical_cols:\n",
    "    print(f\"The unique values in column '{col}':\\n {credit_card_df[col].unique()}\\n\")"
   ]
  },
  {
   "cell_type": "markdown",
   "metadata": {},
   "source": [
    "Since there are some undescribed values in the dataset description, '0, 5, 6' in `EDUCATION` and'0' in `MARRIAGE` , I handled them by labeling them as  'other class'."
   ]
  },
  {
   "cell_type": "code",
   "execution_count": 5,
   "metadata": {
    "tags": []
   },
   "outputs": [
    {
     "name": "stdout",
     "output_type": "stream",
     "text": [
      "[2 1 3 4]\n",
      "[1 2 3]\n"
     ]
    }
   ],
   "source": [
    "credit_card_df.loc[credit_card_df['EDUCATION'].isin([5, 6, 0]), 'EDUCATION'] = 4\n",
    "print(credit_card_df['EDUCATION'].unique())\n",
    "\n",
    "credit_card_df.loc[credit_card_df['MARRIAGE'] == 0, 'MARRIAGE'] = 3\n",
    "print(credit_card_df['MARRIAGE'].unique())"
   ]
  },
  {
   "cell_type": "markdown",
   "metadata": {
    "tags": []
   },
   "source": [
    "### Checking Missing Data"
   ]
  },
  {
   "cell_type": "code",
   "execution_count": 6,
   "metadata": {
    "tags": []
   },
   "outputs": [
    {
     "data": {
      "text/plain": [
       "ID             0\n",
       "LIMIT_BAL      0\n",
       "SEX            0\n",
       "EDUCATION      0\n",
       "MARRIAGE       0\n",
       "AGE            0\n",
       "PAY_9          0\n",
       "PAY_8          0\n",
       "PAY_7          0\n",
       "PAY_6          0\n",
       "PAY_5          0\n",
       "PAY_4          0\n",
       "BILL_AMT_9     0\n",
       "BILL_AMT_8     0\n",
       "BILL_AMT_7     0\n",
       "BILL_AMT_6     0\n",
       "BILL_AMT_5     0\n",
       "BILL_AMT_4     0\n",
       "PAY_AMT_9      0\n",
       "PAY_AMT_8      0\n",
       "PAY_AMT_7      0\n",
       "PAY_AMT_6      0\n",
       "PAY_AMT_5      0\n",
       "PAY_AMT_4      0\n",
       "default_pay    0\n",
       "dtype: int64"
      ]
     },
     "execution_count": 6,
     "metadata": {},
     "output_type": "execute_result"
    }
   ],
   "source": [
    "credit_card_df.isnull().sum()"
   ]
  },
  {
   "cell_type": "markdown",
   "metadata": {},
   "source": [
    "From the above summary, we can confirm that there is no missing value in the dataset."
   ]
  },
  {
   "cell_type": "markdown",
   "metadata": {},
   "source": [
    "<!-- END QUESTION -->\n",
    "\n",
    "<br><br>"
   ]
  },
  {
   "cell_type": "markdown",
   "metadata": {},
   "source": [
    "### Data Splitting"
   ]
  },
  {
   "cell_type": "markdown",
   "metadata": {},
   "source": [
    "Since the `ID` column seems not helpful in predicting the target, we choose to get rid of this column."
   ]
  },
  {
   "cell_type": "code",
   "execution_count": 7,
   "metadata": {
    "tags": []
   },
   "outputs": [
    {
     "data": {
      "text/html": [
       "<div>\n",
       "<style scoped>\n",
       "    .dataframe tbody tr th:only-of-type {\n",
       "        vertical-align: middle;\n",
       "    }\n",
       "\n",
       "    .dataframe tbody tr th {\n",
       "        vertical-align: top;\n",
       "    }\n",
       "\n",
       "    .dataframe thead th {\n",
       "        text-align: right;\n",
       "    }\n",
       "</style>\n",
       "<table border=\"1\" class=\"dataframe\">\n",
       "  <thead>\n",
       "    <tr style=\"text-align: right;\">\n",
       "      <th></th>\n",
       "      <th>LIMIT_BAL</th>\n",
       "      <th>SEX</th>\n",
       "      <th>EDUCATION</th>\n",
       "      <th>MARRIAGE</th>\n",
       "      <th>AGE</th>\n",
       "      <th>PAY_9</th>\n",
       "      <th>PAY_8</th>\n",
       "      <th>PAY_7</th>\n",
       "      <th>PAY_6</th>\n",
       "      <th>PAY_5</th>\n",
       "      <th>...</th>\n",
       "      <th>BILL_AMT_6</th>\n",
       "      <th>BILL_AMT_5</th>\n",
       "      <th>BILL_AMT_4</th>\n",
       "      <th>PAY_AMT_9</th>\n",
       "      <th>PAY_AMT_8</th>\n",
       "      <th>PAY_AMT_7</th>\n",
       "      <th>PAY_AMT_6</th>\n",
       "      <th>PAY_AMT_5</th>\n",
       "      <th>PAY_AMT_4</th>\n",
       "      <th>default_pay</th>\n",
       "    </tr>\n",
       "  </thead>\n",
       "  <tbody>\n",
       "    <tr>\n",
       "      <th>0</th>\n",
       "      <td>20000.0</td>\n",
       "      <td>2</td>\n",
       "      <td>2</td>\n",
       "      <td>1</td>\n",
       "      <td>24</td>\n",
       "      <td>2</td>\n",
       "      <td>2</td>\n",
       "      <td>-1</td>\n",
       "      <td>-1</td>\n",
       "      <td>-2</td>\n",
       "      <td>...</td>\n",
       "      <td>0.0</td>\n",
       "      <td>0.0</td>\n",
       "      <td>0.0</td>\n",
       "      <td>0.0</td>\n",
       "      <td>689.0</td>\n",
       "      <td>0.0</td>\n",
       "      <td>0.0</td>\n",
       "      <td>0.0</td>\n",
       "      <td>0.0</td>\n",
       "      <td>1</td>\n",
       "    </tr>\n",
       "    <tr>\n",
       "      <th>1</th>\n",
       "      <td>120000.0</td>\n",
       "      <td>2</td>\n",
       "      <td>2</td>\n",
       "      <td>2</td>\n",
       "      <td>26</td>\n",
       "      <td>-1</td>\n",
       "      <td>2</td>\n",
       "      <td>0</td>\n",
       "      <td>0</td>\n",
       "      <td>0</td>\n",
       "      <td>...</td>\n",
       "      <td>3272.0</td>\n",
       "      <td>3455.0</td>\n",
       "      <td>3261.0</td>\n",
       "      <td>0.0</td>\n",
       "      <td>1000.0</td>\n",
       "      <td>1000.0</td>\n",
       "      <td>1000.0</td>\n",
       "      <td>0.0</td>\n",
       "      <td>2000.0</td>\n",
       "      <td>1</td>\n",
       "    </tr>\n",
       "    <tr>\n",
       "      <th>2</th>\n",
       "      <td>90000.0</td>\n",
       "      <td>2</td>\n",
       "      <td>2</td>\n",
       "      <td>2</td>\n",
       "      <td>34</td>\n",
       "      <td>0</td>\n",
       "      <td>0</td>\n",
       "      <td>0</td>\n",
       "      <td>0</td>\n",
       "      <td>0</td>\n",
       "      <td>...</td>\n",
       "      <td>14331.0</td>\n",
       "      <td>14948.0</td>\n",
       "      <td>15549.0</td>\n",
       "      <td>1518.0</td>\n",
       "      <td>1500.0</td>\n",
       "      <td>1000.0</td>\n",
       "      <td>1000.0</td>\n",
       "      <td>1000.0</td>\n",
       "      <td>5000.0</td>\n",
       "      <td>0</td>\n",
       "    </tr>\n",
       "  </tbody>\n",
       "</table>\n",
       "<p>3 rows × 24 columns</p>\n",
       "</div>"
      ],
      "text/plain": [
       "   LIMIT_BAL  SEX  EDUCATION  MARRIAGE  AGE  PAY_9  PAY_8  PAY_7  PAY_6  \\\n",
       "0    20000.0    2          2         1   24      2      2     -1     -1   \n",
       "1   120000.0    2          2         2   26     -1      2      0      0   \n",
       "2    90000.0    2          2         2   34      0      0      0      0   \n",
       "\n",
       "   PAY_5  ...  BILL_AMT_6  BILL_AMT_5  BILL_AMT_4  PAY_AMT_9  PAY_AMT_8  \\\n",
       "0     -2  ...         0.0         0.0         0.0        0.0      689.0   \n",
       "1      0  ...      3272.0      3455.0      3261.0        0.0     1000.0   \n",
       "2      0  ...     14331.0     14948.0     15549.0     1518.0     1500.0   \n",
       "\n",
       "   PAY_AMT_7  PAY_AMT_6  PAY_AMT_5  PAY_AMT_4  default_pay  \n",
       "0        0.0        0.0        0.0        0.0            1  \n",
       "1     1000.0     1000.0        0.0     2000.0            1  \n",
       "2     1000.0     1000.0     1000.0     5000.0            0  \n",
       "\n",
       "[3 rows x 24 columns]"
      ]
     },
     "execution_count": 7,
     "metadata": {},
     "output_type": "execute_result"
    }
   ],
   "source": [
    "credit_card_df_cleaned = credit_card_df.drop(columns = \"ID\")\n",
    "credit_card_df_cleaned.head(3)"
   ]
  },
  {
   "cell_type": "code",
   "execution_count": 8,
   "metadata": {
    "tags": []
   },
   "outputs": [
    {
     "name": "stdout",
     "output_type": "stream",
     "text": [
      "21000\n"
     ]
    },
    {
     "data": {
      "text/plain": [
       "9000"
      ]
     },
     "execution_count": 8,
     "metadata": {},
     "output_type": "execute_result"
    }
   ],
   "source": [
    "train_df, test_df = train_test_split(credit_card_df_cleaned, test_size=0.3, random_state=123)\n",
    "print(train_df.shape[0])\n",
    "test_df.shape[0]"
   ]
  },
  {
   "cell_type": "markdown",
   "metadata": {},
   "source": [
    "There are 21000 rows of data in the training set and 9000 rows in the testing set."
   ]
  },
  {
   "cell_type": "markdown",
   "metadata": {},
   "source": [
    "<!-- END QUESTION -->\n",
    "\n",
    "<br><br>"
   ]
  },
  {
   "cell_type": "markdown",
   "metadata": {},
   "source": [
    "### Exploratory Data Analysis (EDA)"
   ]
  },
  {
   "cell_type": "code",
   "execution_count": 9,
   "metadata": {
    "tags": []
   },
   "outputs": [
    {
     "data": {
      "text/plain": [
       "2    11210\n",
       "1     9527\n",
       "3      263\n",
       "Name: MARRIAGE, dtype: int64"
      ]
     },
     "execution_count": 9,
     "metadata": {},
     "output_type": "execute_result"
    }
   ],
   "source": [
    "train_df['MARRIAGE'].value_counts()"
   ]
  },
  {
   "cell_type": "markdown",
   "metadata": {},
   "source": [
    "> 1 = married; 2 = single; 3 = others"
   ]
  },
  {
   "cell_type": "markdown",
   "metadata": {},
   "source": [
    "It appears that there is a relatively balanced representation between the '1' (married) and '2' (single) categories. However, there is a noticeable shortage of data for the '3' (others) category, which only has 263 entries. This data imbalance may lead to skewed results or inaccurate conclusions when analyzing or making predictions based on this dataset."
   ]
  },
  {
   "cell_type": "code",
   "execution_count": 10,
   "metadata": {
    "tags": []
   },
   "outputs": [
    {
     "data": {
      "text/plain": [
       "2    9815\n",
       "1    7433\n",
       "3    3416\n",
       "4     336\n",
       "Name: EDUCATION, dtype: int64"
      ]
     },
     "execution_count": 10,
     "metadata": {},
     "output_type": "execute_result"
    }
   ],
   "source": [
    "train_df['EDUCATION'].value_counts()"
   ]
  },
  {
   "cell_type": "markdown",
   "metadata": {},
   "source": [
    "> 1 = graduate school, 2 = university, 3 = high school, 4 = others, "
   ]
  },
  {
   "cell_type": "markdown",
   "metadata": {},
   "source": [
    "It can be observed that there is a relatively balanced representation between the '1' (graduate school) and '2' (university) categories. However, there is a shortage of data for the '3' (high school) category, which only has 3416 entries. Additionally, the '4' (others) category has even fewer data points, with only 336 entries."
   ]
  },
  {
   "cell_type": "code",
   "execution_count": 11,
   "metadata": {
    "tags": []
   },
   "outputs": [
    {
     "data": {
      "text/plain": [
       "2    12616\n",
       "1     8384\n",
       "Name: SEX, dtype: int64"
      ]
     },
     "execution_count": 11,
     "metadata": {},
     "output_type": "execute_result"
    }
   ],
   "source": [
    "train_df['SEX'].value_counts()"
   ]
  },
  {
   "cell_type": "markdown",
   "metadata": {},
   "source": [
    "> 1 = male; 2 = female"
   ]
  },
  {
   "cell_type": "markdown",
   "metadata": {
    "tags": []
   },
   "source": [
    "The amount of data for category '1' is not significantly different from category '2' based on the boxplot."
   ]
  },
  {
   "cell_type": "code",
   "execution_count": 12,
   "metadata": {
    "tags": []
   },
   "outputs": [
    {
     "data": {
      "text/plain": [
       "0    16312\n",
       "1     4688\n",
       "Name: default_pay, dtype: int64"
      ]
     },
     "execution_count": 12,
     "metadata": {},
     "output_type": "execute_result"
    }
   ],
   "source": [
    "train_df['default_pay'].value_counts()"
   ]
  },
  {
   "cell_type": "markdown",
   "metadata": {
    "tags": []
   },
   "source": [
    "> 1 = yes; 0 = no"
   ]
  },
  {
   "cell_type": "markdown",
   "metadata": {},
   "source": [
    "There is a noticeable difference between the number of instances in class '0' and class '1' (with more instances in class '0'), as shown in the data provided. This indicates that the variable 'default_pay' has imbalanced data."
   ]
  },
  {
   "cell_type": "markdown",
   "metadata": {},
   "source": [
    "We can visualize those differences with the `defualt_pay` categories in the following count plots:"
   ]
  },
  {
   "cell_type": "code",
   "execution_count": 13,
   "metadata": {
    "tags": []
   },
   "outputs": [
    {
     "data": {
      "image/png": "[encoded data removed]",
      "text/plain": [
       "<Figure size 1000x500 with 1 Axes>"
      ]
     },
     "metadata": {},
     "output_type": "display_data"
    },
    {
     "data": {
      "image/png": "[encoded data removed]",
      "text/plain": [
       "<Figure size 1000x500 with 1 Axes>"
      ]
     },
     "metadata": {},
     "output_type": "display_data"
    },
    {
     "data": {
      "image/png": "[encoded data removed]",
      "text/plain": [
       "<Figure size 1000x500 with 1 Axes>"
      ]
     },
     "metadata": {},
     "output_type": "display_data"
    },
    {
     "data": {
      "image/png": "[encoded data removed]",
      "text/plain": [
       "<Figure size 1000x500 with 1 Axes>"
      ]
     },
     "metadata": {},
     "output_type": "display_data"
    }
   ],
   "source": [
    "for feat in categorical_cols:\n",
    "    plt.figure(figsize=(10,5))\n",
    "    sns.countplot(x = feat, hue = 'default_pay', data = train_df)\n",
    "    plt.xlabel(feat)\n",
    "    plt.title(\"Countplot of \" + feat)\n",
    "    plt.show()"
   ]
  },
  {
   "cell_type": "markdown",
   "metadata": {},
   "source": [
    "* For `EDUCATION` variable,the category '2' has the highest amount of data for both `default_pay` with category '1' and `default_pay` with category '0'.\n",
    "* For `MARRIAGE` variable, The category '1' and '2' has a similar amount of data for both `default_pay` with category '1'.\n",
    "* `SEX` has a similar observation to the `MARRIAGE`"
   ]
  },
  {
   "cell_type": "code",
   "execution_count": 14,
   "metadata": {
    "tags": []
   },
   "outputs": [
    {
     "data": {
      "image/png": "[encoded data removed]",
      "text/plain": [
       "<Figure size 640x480 with 1 Axes>"
      ]
     },
     "metadata": {},
     "output_type": "display_data"
    }
   ],
   "source": [
    "train_df['AGE'].plot.hist(bins=30, alpha=0.5, legend=True)\n",
    "plt.xlabel('AGE')\n",
    "plt.title(\"Histogram of AGE\")\n",
    "plt.show()"
   ]
  },
  {
   "cell_type": "markdown",
   "metadata": {},
   "source": [
    "The histogram of the `AGE` shows a right skewed distribution with its mean value close to the left side (mean:35.5)."
   ]
  },
  {
   "cell_type": "code",
   "execution_count": 15,
   "metadata": {
    "tags": []
   },
   "outputs": [
    {
     "data": {
      "text/plain": [
       "count    21000.000000\n",
       "mean        35.500810\n",
       "std          9.212644\n",
       "min         21.000000\n",
       "25%         28.000000\n",
       "50%         34.000000\n",
       "75%         41.000000\n",
       "max         79.000000\n",
       "Name: AGE, dtype: float64"
      ]
     },
     "execution_count": 15,
     "metadata": {},
     "output_type": "execute_result"
    }
   ],
   "source": [
    "train_df['AGE'].describe()"
   ]
  },
  {
   "cell_type": "code",
   "execution_count": 16,
   "metadata": {
    "tags": []
   },
   "outputs": [
    {
     "data": {
      "image/png": "[encoded data removed]",
      "text/plain": [
       "<Figure size 640x480 with 1 Axes>"
      ]
     },
     "metadata": {},
     "output_type": "display_data"
    }
   ],
   "source": [
    "train_df['LIMIT_BAL'].plot.hist(bins=30, alpha=0.5, legend=True)\n",
    "plt.xlabel('Amount of Given Credit (10^6)')\n",
    "plt.title(\"Histogram of Given Credit\")\n",
    "plt.show()"
   ]
  },
  {
   "cell_type": "markdown",
   "metadata": {
    "tags": []
   },
   "source": [
    "The axis is scaled automatically with 10^6 by the plot function. The histogram of the `LIMIT_BAL` shows a right skewed distribution with its mean value close to the left side (mean:167880.6)."
   ]
  },
  {
   "cell_type": "code",
   "execution_count": 17,
   "metadata": {
    "tags": []
   },
   "outputs": [
    {
     "data": {
      "text/plain": [
       "count      21000.000000\n",
       "mean      167880.651429\n",
       "std       130202.682167\n",
       "min        10000.000000\n",
       "25%        50000.000000\n",
       "50%       140000.000000\n",
       "75%       240000.000000\n",
       "max      1000000.000000\n",
       "Name: LIMIT_BAL, dtype: float64"
      ]
     },
     "execution_count": 17,
     "metadata": {},
     "output_type": "execute_result"
    }
   ],
   "source": [
    "train_df['LIMIT_BAL'].describe()"
   ]
  },
  {
   "cell_type": "markdown",
   "metadata": {
    "tags": []
   },
   "source": [
    "In summary, I would use all the columns except for the 'ID' column and the target variable 'default_pay' for model training. Additionally, the default classification metric of 'accuracy' should be changed due to the imbalanced categories in the target variable. Both Type I and Type II errors need to be considered. Therefore, the 'precision', 'recall', and 'f1' scores are chosen as the evaluation metrics. These metrics aim to reduce the probability of falsely classifying a client as defaulting on payment when they are not, while also minimizing the probability of falsely classifying a client as non-defaulting when they actually are (as this could lead to a loss of trust in the bank)."
   ]
  },
  {
   "cell_type": "code",
   "execution_count": 18,
   "metadata": {
    "tags": []
   },
   "outputs": [],
   "source": [
    "scoring_metrics = ['precision', 'recall', 'f1']"
   ]
  },
  {
   "cell_type": "markdown",
   "metadata": {},
   "source": [
    "<!-- END QUESTION -->\n",
    "\n",
    "<br><br>"
   ]
  },
  {
   "cell_type": "markdown",
   "metadata": {},
   "source": [
    "### Feature Engineering"
   ]
  },
  {
   "cell_type": "markdown",
   "metadata": {},
   "source": [
    "Usually, clients who have not paid their debts are more likely to default. Additionally, clients with a larger remaining payment amount may have a higher probability of defaulting. Therefore, I have added a new feature called `rest_payment` to both the training and testing datasets. This feature represents the amount of money that the client still needs to pay."
   ]
  },
  {
   "cell_type": "code",
   "execution_count": 19,
   "metadata": {
    "tags": []
   },
   "outputs": [
    {
     "data": {
      "text/html": [
       "<div>\n",
       "<style scoped>\n",
       "    .dataframe tbody tr th:only-of-type {\n",
       "        vertical-align: middle;\n",
       "    }\n",
       "\n",
       "    .dataframe tbody tr th {\n",
       "        vertical-align: top;\n",
       "    }\n",
       "\n",
       "    .dataframe thead th {\n",
       "        text-align: right;\n",
       "    }\n",
       "</style>\n",
       "<table border=\"1\" class=\"dataframe\">\n",
       "  <thead>\n",
       "    <tr style=\"text-align: right;\">\n",
       "      <th></th>\n",
       "      <th>LIMIT_BAL</th>\n",
       "      <th>SEX</th>\n",
       "      <th>EDUCATION</th>\n",
       "      <th>MARRIAGE</th>\n",
       "      <th>AGE</th>\n",
       "      <th>PAY_9</th>\n",
       "      <th>PAY_8</th>\n",
       "      <th>PAY_7</th>\n",
       "      <th>PAY_6</th>\n",
       "      <th>PAY_5</th>\n",
       "      <th>...</th>\n",
       "      <th>BILL_AMT_5</th>\n",
       "      <th>BILL_AMT_4</th>\n",
       "      <th>PAY_AMT_9</th>\n",
       "      <th>PAY_AMT_8</th>\n",
       "      <th>PAY_AMT_7</th>\n",
       "      <th>PAY_AMT_6</th>\n",
       "      <th>PAY_AMT_5</th>\n",
       "      <th>PAY_AMT_4</th>\n",
       "      <th>default_pay</th>\n",
       "      <th>rest_payment</th>\n",
       "    </tr>\n",
       "  </thead>\n",
       "  <tbody>\n",
       "    <tr>\n",
       "      <th>16395</th>\n",
       "      <td>320000.0</td>\n",
       "      <td>2</td>\n",
       "      <td>1</td>\n",
       "      <td>2</td>\n",
       "      <td>36</td>\n",
       "      <td>0</td>\n",
       "      <td>0</td>\n",
       "      <td>0</td>\n",
       "      <td>0</td>\n",
       "      <td>0</td>\n",
       "      <td>...</td>\n",
       "      <td>10155.0</td>\n",
       "      <td>3788.0</td>\n",
       "      <td>5000.0</td>\n",
       "      <td>5018.0</td>\n",
       "      <td>1000.0</td>\n",
       "      <td>3000.0</td>\n",
       "      <td>0.0</td>\n",
       "      <td>7013.0</td>\n",
       "      <td>0</td>\n",
       "      <td>98182.0</td>\n",
       "    </tr>\n",
       "    <tr>\n",
       "      <th>21448</th>\n",
       "      <td>440000.0</td>\n",
       "      <td>2</td>\n",
       "      <td>1</td>\n",
       "      <td>2</td>\n",
       "      <td>30</td>\n",
       "      <td>-1</td>\n",
       "      <td>-1</td>\n",
       "      <td>-1</td>\n",
       "      <td>0</td>\n",
       "      <td>0</td>\n",
       "      <td>...</td>\n",
       "      <td>150897.0</td>\n",
       "      <td>117870.0</td>\n",
       "      <td>612.0</td>\n",
       "      <td>87426.0</td>\n",
       "      <td>130007.0</td>\n",
       "      <td>3018.0</td>\n",
       "      <td>15000.0</td>\n",
       "      <td>51663.0</td>\n",
       "      <td>0</td>\n",
       "      <td>241100.0</td>\n",
       "    </tr>\n",
       "    <tr>\n",
       "      <th>20034</th>\n",
       "      <td>160000.0</td>\n",
       "      <td>2</td>\n",
       "      <td>3</td>\n",
       "      <td>1</td>\n",
       "      <td>44</td>\n",
       "      <td>-2</td>\n",
       "      <td>-2</td>\n",
       "      <td>-2</td>\n",
       "      <td>-2</td>\n",
       "      <td>-2</td>\n",
       "      <td>...</td>\n",
       "      <td>-18.0</td>\n",
       "      <td>-18.0</td>\n",
       "      <td>0.0</td>\n",
       "      <td>0.0</td>\n",
       "      <td>0.0</td>\n",
       "      <td>0.0</td>\n",
       "      <td>0.0</td>\n",
       "      <td>0.0</td>\n",
       "      <td>0</td>\n",
       "      <td>-108.0</td>\n",
       "    </tr>\n",
       "    <tr>\n",
       "      <th>25755</th>\n",
       "      <td>120000.0</td>\n",
       "      <td>2</td>\n",
       "      <td>2</td>\n",
       "      <td>1</td>\n",
       "      <td>30</td>\n",
       "      <td>0</td>\n",
       "      <td>0</td>\n",
       "      <td>0</td>\n",
       "      <td>0</td>\n",
       "      <td>0</td>\n",
       "      <td>...</td>\n",
       "      <td>71095.0</td>\n",
       "      <td>47379.0</td>\n",
       "      <td>3706.0</td>\n",
       "      <td>5502.0</td>\n",
       "      <td>4204.0</td>\n",
       "      <td>3017.0</td>\n",
       "      <td>2005.0</td>\n",
       "      <td>1702.0</td>\n",
       "      <td>0</td>\n",
       "      <td>510546.0</td>\n",
       "    </tr>\n",
       "    <tr>\n",
       "      <th>1438</th>\n",
       "      <td>50000.0</td>\n",
       "      <td>1</td>\n",
       "      <td>2</td>\n",
       "      <td>2</td>\n",
       "      <td>54</td>\n",
       "      <td>1</td>\n",
       "      <td>2</td>\n",
       "      <td>0</td>\n",
       "      <td>0</td>\n",
       "      <td>0</td>\n",
       "      <td>...</td>\n",
       "      <td>27910.0</td>\n",
       "      <td>27380.0</td>\n",
       "      <td>0.0</td>\n",
       "      <td>1400.0</td>\n",
       "      <td>1200.0</td>\n",
       "      <td>1500.0</td>\n",
       "      <td>1000.0</td>\n",
       "      <td>1500.0</td>\n",
       "      <td>0</td>\n",
       "      <td>198481.0</td>\n",
       "    </tr>\n",
       "    <tr>\n",
       "      <th>...</th>\n",
       "      <td>...</td>\n",
       "      <td>...</td>\n",
       "      <td>...</td>\n",
       "      <td>...</td>\n",
       "      <td>...</td>\n",
       "      <td>...</td>\n",
       "      <td>...</td>\n",
       "      <td>...</td>\n",
       "      <td>...</td>\n",
       "      <td>...</td>\n",
       "      <td>...</td>\n",
       "      <td>...</td>\n",
       "      <td>...</td>\n",
       "      <td>...</td>\n",
       "      <td>...</td>\n",
       "      <td>...</td>\n",
       "      <td>...</td>\n",
       "      <td>...</td>\n",
       "      <td>...</td>\n",
       "      <td>...</td>\n",
       "      <td>...</td>\n",
       "    </tr>\n",
       "    <tr>\n",
       "      <th>28636</th>\n",
       "      <td>380000.0</td>\n",
       "      <td>2</td>\n",
       "      <td>2</td>\n",
       "      <td>1</td>\n",
       "      <td>37</td>\n",
       "      <td>0</td>\n",
       "      <td>0</td>\n",
       "      <td>0</td>\n",
       "      <td>0</td>\n",
       "      <td>0</td>\n",
       "      <td>...</td>\n",
       "      <td>15949.0</td>\n",
       "      <td>15556.0</td>\n",
       "      <td>1204.0</td>\n",
       "      <td>1300.0</td>\n",
       "      <td>1242.0</td>\n",
       "      <td>1900.0</td>\n",
       "      <td>0.0</td>\n",
       "      <td>3000.0</td>\n",
       "      <td>0</td>\n",
       "      <td>78223.0</td>\n",
       "    </tr>\n",
       "    <tr>\n",
       "      <th>17730</th>\n",
       "      <td>360000.0</td>\n",
       "      <td>2</td>\n",
       "      <td>1</td>\n",
       "      <td>1</td>\n",
       "      <td>54</td>\n",
       "      <td>1</td>\n",
       "      <td>-2</td>\n",
       "      <td>-2</td>\n",
       "      <td>-1</td>\n",
       "      <td>0</td>\n",
       "      <td>...</td>\n",
       "      <td>2580.0</td>\n",
       "      <td>6941.0</td>\n",
       "      <td>0.0</td>\n",
       "      <td>0.0</td>\n",
       "      <td>2580.0</td>\n",
       "      <td>0.0</td>\n",
       "      <td>6941.0</td>\n",
       "      <td>0.0</td>\n",
       "      <td>0</td>\n",
       "      <td>2580.0</td>\n",
       "    </tr>\n",
       "    <tr>\n",
       "      <th>28030</th>\n",
       "      <td>50000.0</td>\n",
       "      <td>2</td>\n",
       "      <td>3</td>\n",
       "      <td>1</td>\n",
       "      <td>29</td>\n",
       "      <td>0</td>\n",
       "      <td>0</td>\n",
       "      <td>0</td>\n",
       "      <td>0</td>\n",
       "      <td>0</td>\n",
       "      <td>...</td>\n",
       "      <td>8824.0</td>\n",
       "      <td>9009.0</td>\n",
       "      <td>2002.0</td>\n",
       "      <td>2000.0</td>\n",
       "      <td>1530.0</td>\n",
       "      <td>1000.0</td>\n",
       "      <td>327.0</td>\n",
       "      <td>329.0</td>\n",
       "      <td>1</td>\n",
       "      <td>192417.0</td>\n",
       "    </tr>\n",
       "    <tr>\n",
       "      <th>15725</th>\n",
       "      <td>30000.0</td>\n",
       "      <td>2</td>\n",
       "      <td>2</td>\n",
       "      <td>2</td>\n",
       "      <td>21</td>\n",
       "      <td>0</td>\n",
       "      <td>0</td>\n",
       "      <td>0</td>\n",
       "      <td>0</td>\n",
       "      <td>0</td>\n",
       "      <td>...</td>\n",
       "      <td>29434.0</td>\n",
       "      <td>16565.0</td>\n",
       "      <td>2000.0</td>\n",
       "      <td>2000.0</td>\n",
       "      <td>2000.0</td>\n",
       "      <td>1765.0</td>\n",
       "      <td>331.0</td>\n",
       "      <td>0.0</td>\n",
       "      <td>0</td>\n",
       "      <td>155118.0</td>\n",
       "    </tr>\n",
       "    <tr>\n",
       "      <th>19966</th>\n",
       "      <td>370000.0</td>\n",
       "      <td>2</td>\n",
       "      <td>1</td>\n",
       "      <td>1</td>\n",
       "      <td>36</td>\n",
       "      <td>-2</td>\n",
       "      <td>-2</td>\n",
       "      <td>-2</td>\n",
       "      <td>-2</td>\n",
       "      <td>-2</td>\n",
       "      <td>...</td>\n",
       "      <td>3737.0</td>\n",
       "      <td>2290.0</td>\n",
       "      <td>25794.0</td>\n",
       "      <td>3007.0</td>\n",
       "      <td>4305.0</td>\n",
       "      <td>3737.0</td>\n",
       "      <td>2290.0</td>\n",
       "      <td>22259.0</td>\n",
       "      <td>0</td>\n",
       "      <td>-19534.0</td>\n",
       "    </tr>\n",
       "  </tbody>\n",
       "</table>\n",
       "<p>21000 rows × 25 columns</p>\n",
       "</div>"
      ],
      "text/plain": [
       "       LIMIT_BAL  SEX  EDUCATION  MARRIAGE  AGE  PAY_9  PAY_8  PAY_7  PAY_6  \\\n",
       "16395   320000.0    2          1         2   36      0      0      0      0   \n",
       "21448   440000.0    2          1         2   30     -1     -1     -1      0   \n",
       "20034   160000.0    2          3         1   44     -2     -2     -2     -2   \n",
       "25755   120000.0    2          2         1   30      0      0      0      0   \n",
       "1438     50000.0    1          2         2   54      1      2      0      0   \n",
       "...          ...  ...        ...       ...  ...    ...    ...    ...    ...   \n",
       "28636   380000.0    2          2         1   37      0      0      0      0   \n",
       "17730   360000.0    2          1         1   54      1     -2     -2     -1   \n",
       "28030    50000.0    2          3         1   29      0      0      0      0   \n",
       "15725    30000.0    2          2         2   21      0      0      0      0   \n",
       "19966   370000.0    2          1         1   36     -2     -2     -2     -2   \n",
       "\n",
       "       PAY_5  ...  BILL_AMT_5  BILL_AMT_4  PAY_AMT_9  PAY_AMT_8  PAY_AMT_7  \\\n",
       "16395      0  ...     10155.0      3788.0     5000.0     5018.0     1000.0   \n",
       "21448      0  ...    150897.0    117870.0      612.0    87426.0   130007.0   \n",
       "20034     -2  ...       -18.0       -18.0        0.0        0.0        0.0   \n",
       "25755      0  ...     71095.0     47379.0     3706.0     5502.0     4204.0   \n",
       "1438       0  ...     27910.0     27380.0        0.0     1400.0     1200.0   \n",
       "...      ...  ...         ...         ...        ...        ...        ...   \n",
       "28636      0  ...     15949.0     15556.0     1204.0     1300.0     1242.0   \n",
       "17730      0  ...      2580.0      6941.0        0.0        0.0     2580.0   \n",
       "28030      0  ...      8824.0      9009.0     2002.0     2000.0     1530.0   \n",
       "15725      0  ...     29434.0     16565.0     2000.0     2000.0     2000.0   \n",
       "19966     -2  ...      3737.0      2290.0    25794.0     3007.0     4305.0   \n",
       "\n",
       "       PAY_AMT_6  PAY_AMT_5  PAY_AMT_4  default_pay  rest_payment  \n",
       "16395     3000.0        0.0     7013.0            0       98182.0  \n",
       "21448     3018.0    15000.0    51663.0            0      241100.0  \n",
       "20034        0.0        0.0        0.0            0        -108.0  \n",
       "25755     3017.0     2005.0     1702.0            0      510546.0  \n",
       "1438      1500.0     1000.0     1500.0            0      198481.0  \n",
       "...          ...        ...        ...          ...           ...  \n",
       "28636     1900.0        0.0     3000.0            0       78223.0  \n",
       "17730        0.0     6941.0        0.0            0        2580.0  \n",
       "28030     1000.0      327.0      329.0            1      192417.0  \n",
       "15725     1765.0      331.0        0.0            0      155118.0  \n",
       "19966     3737.0     2290.0    22259.0            0      -19534.0  \n",
       "\n",
       "[21000 rows x 25 columns]"
      ]
     },
     "execution_count": 19,
     "metadata": {},
     "output_type": "execute_result"
    }
   ],
   "source": [
    "mapping = {('BILL_AMT_4', 'PAY_AMT_4'), ('BILL_AMT_5', 'PAY_AMT_5'),\n",
    "            ('BILL_AMT_6', 'PAY_AMT_6'),('BILL_AMT_7', 'PAY_AMT_7'),\n",
    "            ('BILL_AMT_8', 'PAY_AMT_8'),('BILL_AMT_9', 'PAY_AMT_9')}\n",
    "\n",
    "train_df['rest_payment'] = 0\n",
    "test_df['rest_payment'] = 0\n",
    "\n",
    "for bill_col, pay_col in mapping:\n",
    "    train_df['rest_payment'] += train_df[bill_col] - train_df[pay_col]\n",
    "    test_df['rest_payment'] += test_df[bill_col] - test_df[pay_col]\n",
    "\n",
    "train_df"
   ]
  },
  {
   "cell_type": "markdown",
   "metadata": {},
   "source": [
    "<!-- END QUESTION -->\n",
    "\n",
    "<br><br>"
   ]
  },
  {
   "cell_type": "markdown",
   "metadata": {},
   "source": [
    "### Preprocessing and Transformations"
   ]
  },
  {
   "cell_type": "markdown",
   "metadata": {},
   "source": [
    "To avoid the information leakage, specify the X_train and y_train:"
   ]
  },
  {
   "cell_type": "code",
   "execution_count": 20,
   "metadata": {
    "tags": []
   },
   "outputs": [
    {
     "data": {
      "text/plain": [
       "Index(['LIMIT_BAL', 'SEX', 'EDUCATION', 'MARRIAGE', 'AGE', 'PAY_9', 'PAY_8',\n",
       "       'PAY_7', 'PAY_6', 'PAY_5', 'PAY_4', 'BILL_AMT_9', 'BILL_AMT_8',\n",
       "       'BILL_AMT_7', 'BILL_AMT_6', 'BILL_AMT_5', 'BILL_AMT_4', 'PAY_AMT_9',\n",
       "       'PAY_AMT_8', 'PAY_AMT_7', 'PAY_AMT_6', 'PAY_AMT_5', 'PAY_AMT_4',\n",
       "       'rest_payment'],\n",
       "      dtype='object')"
      ]
     },
     "execution_count": 20,
     "metadata": {},
     "output_type": "execute_result"
    }
   ],
   "source": [
    "X_train = train_df.drop(columns=[\"default_pay\"])\n",
    "y_train = train_df[\"default_pay\"]\n",
    "\n",
    "X_test = test_df.drop(columns=[\"default_pay\"])\n",
    "y_test = test_df[\"default_pay\"]\n",
    "\n",
    "X_train.columns\n"
   ]
  },
  {
   "cell_type": "markdown",
   "metadata": {},
   "source": [
    "Specify the categorical features, binary features, and numeric features for column transformation:"
   ]
  },
  {
   "cell_type": "code",
   "execution_count": 21,
   "metadata": {
    "tags": []
   },
   "outputs": [
    {
     "data": {
      "text/plain": [
       "['PAY_5',\n",
       " 'BILL_AMT_7',\n",
       " 'BILL_AMT_4',\n",
       " 'PAY_AMT_5',\n",
       " 'PAY_7',\n",
       " 'BILL_AMT_8',\n",
       " 'BILL_AMT_5',\n",
       " 'BILL_AMT_6',\n",
       " 'PAY_AMT_4',\n",
       " 'PAY_8',\n",
       " 'BILL_AMT_9',\n",
       " 'PAY_6',\n",
       " 'PAY_AMT_6',\n",
       " 'PAY_4',\n",
       " 'PAY_9',\n",
       " 'PAY_AMT_7',\n",
       " 'LIMIT_BAL',\n",
       " 'AGE',\n",
       " 'rest_payment',\n",
       " 'PAY_AMT_8',\n",
       " 'PAY_AMT_9']"
      ]
     },
     "execution_count": 21,
     "metadata": {},
     "output_type": "execute_result"
    }
   ],
   "source": [
    "categorical_features = [\"MARRIAGE\",\"EDUCATION\"]\n",
    "binary_features = [\"SEX\"]\n",
    "numeric_features = list(set(X_train.columns) \n",
    "                     - set(categorical_features)\n",
    "                     - set(binary_features))\n",
    "numeric_features"
   ]
  },
  {
   "cell_type": "markdown",
   "metadata": {},
   "source": [
    "Since there are only two categories in the `SEX`, we can treat it as a binary variable. "
   ]
  },
  {
   "cell_type": "markdown",
   "metadata": {
    "tags": []
   },
   "source": [
    "#### Column Transformation Building:"
   ]
  },
  {
   "cell_type": "code",
   "execution_count": 22,
   "metadata": {
    "tags": []
   },
   "outputs": [
    {
     "data": {
      "text/html": [
       "<style>#sk-container-id-1 {color: black;background-color: white;}#sk-container-id-1 pre{padding: 0;}#sk-container-id-1 div.sk-toggleable {background-color: white;}#sk-container-id-1 label.sk-toggleable__label {cursor: pointer;display: block;width: 100%;margin-bottom: 0;padding: 0.3em;box-sizing: border-box;text-align: center;}#sk-container-id-1 label.sk-toggleable__label-arrow:before {content: \"▸\";float: left;margin-right: 0.25em;color: #696969;}#sk-container-id-1 label.sk-toggleable__label-arrow:hover:before {color: black;}#sk-container-id-1 div.sk-estimator:hover label.sk-toggleable__label-arrow:before {color: black;}#sk-container-id-1 div.sk-toggleable__content {max-height: 0;max-width: 0;overflow: hidden;text-align: left;background-color: #f0f8ff;}#sk-container-id-1 div.sk-toggleable__content pre {margin: 0.2em;color: black;border-radius: 0.25em;background-color: #f0f8ff;}#sk-container-id-1 input.sk-toggleable__control:checked~div.sk-toggleable__content {max-height: 200px;max-width: 100%;overflow: auto;}#sk-container-id-1 input.sk-toggleable__control:checked~label.sk-toggleable__label-arrow:before {content: \"▾\";}#sk-container-id-1 div.sk-estimator input.sk-toggleable__control:checked~label.sk-toggleable__label {background-color: #d4ebff;}#sk-container-id-1 div.sk-label input.sk-toggleable__control:checked~label.sk-toggleable__label {background-color: #d4ebff;}#sk-container-id-1 input.sk-hidden--visually {border: 0;clip: rect(1px 1px 1px 1px);clip: rect(1px, 1px, 1px, 1px);height: 1px;margin: -1px;overflow: hidden;padding: 0;position: absolute;width: 1px;}#sk-container-id-1 div.sk-estimator {font-family: monospace;background-color: #f0f8ff;border: 1px dotted black;border-radius: 0.25em;box-sizing: border-box;margin-bottom: 0.5em;}#sk-container-id-1 div.sk-estimator:hover {background-color: #d4ebff;}#sk-container-id-1 div.sk-parallel-item::after {content: \"\";width: 100%;border-bottom: 1px solid gray;flex-grow: 1;}#sk-container-id-1 div.sk-label:hover label.sk-toggleable__label {background-color: #d4ebff;}#sk-container-id-1 div.sk-serial::before {content: \"\";position: absolute;border-left: 1px solid gray;box-sizing: border-box;top: 0;bottom: 0;left: 50%;z-index: 0;}#sk-container-id-1 div.sk-serial {display: flex;flex-direction: column;align-items: center;background-color: white;padding-right: 0.2em;padding-left: 0.2em;position: relative;}#sk-container-id-1 div.sk-item {position: relative;z-index: 1;}#sk-container-id-1 div.sk-parallel {display: flex;align-items: stretch;justify-content: center;background-color: white;position: relative;}#sk-container-id-1 div.sk-item::before, #sk-container-id-1 div.sk-parallel-item::before {content: \"\";position: absolute;border-left: 1px solid gray;box-sizing: border-box;top: 0;bottom: 0;left: 50%;z-index: -1;}#sk-container-id-1 div.sk-parallel-item {display: flex;flex-direction: column;z-index: 1;position: relative;background-color: white;}#sk-container-id-1 div.sk-parallel-item:first-child::after {align-self: flex-end;width: 50%;}#sk-container-id-1 div.sk-parallel-item:last-child::after {align-self: flex-start;width: 50%;}#sk-container-id-1 div.sk-parallel-item:only-child::after {width: 0;}#sk-container-id-1 div.sk-dashed-wrapped {border: 1px dashed gray;margin: 0 0.4em 0.5em 0.4em;box-sizing: border-box;padding-bottom: 0.4em;background-color: white;}#sk-container-id-1 div.sk-label label {font-family: monospace;font-weight: bold;display: inline-block;line-height: 1.2em;}#sk-container-id-1 div.sk-label-container {text-align: center;}#sk-container-id-1 div.sk-container {/* jupyter's `normalize.less` sets `[hidden] { display: none; }` but bootstrap.min.css set `[hidden] { display: none !important; }` so we also need the `!important` here to be able to override the default hidden behavior on the sphinx rendered scikit-learn.org. See: https://github.com/scikit-learn/scikit-learn/issues/21755 */display: inline-block !important;position: relative;}#sk-container-id-1 div.sk-text-repr-fallback {display: none;}</style><div id=\"sk-container-id-1\" class=\"sk-top-container\"><div class=\"sk-text-repr-fallback\"><pre>ColumnTransformer(transformers=[(&#x27;pipeline-1&#x27;,\n",
       "                                 Pipeline(steps=[(&#x27;standardscaler&#x27;,\n",
       "                                                  StandardScaler())]),\n",
       "                                 [&#x27;PAY_5&#x27;, &#x27;BILL_AMT_7&#x27;, &#x27;BILL_AMT_4&#x27;,\n",
       "                                  &#x27;PAY_AMT_5&#x27;, &#x27;PAY_7&#x27;, &#x27;BILL_AMT_8&#x27;,\n",
       "                                  &#x27;BILL_AMT_5&#x27;, &#x27;BILL_AMT_6&#x27;, &#x27;PAY_AMT_4&#x27;,\n",
       "                                  &#x27;PAY_8&#x27;, &#x27;BILL_AMT_9&#x27;, &#x27;PAY_6&#x27;, &#x27;PAY_AMT_6&#x27;,\n",
       "                                  &#x27;PAY_4&#x27;, &#x27;PAY_9&#x27;, &#x27;PAY_AMT_7&#x27;, &#x27;LIMIT_BAL&#x27;,\n",
       "                                  &#x27;AGE&#x27;, &#x27;rest_payment&#x27;, &#x27;PAY_AMT_8&#x27;,\n",
       "                                  &#x27;PAY_AMT_9&#x27;]),\n",
       "                                (&#x27;pipeline-2&#x27;,\n",
       "                                 Pipeline(steps=[(&#x27;onehotencoder&#x27;,\n",
       "                                                  OneHotEncoder(drop=&#x27;if_binary&#x27;,\n",
       "                                                                dtype=&lt;class &#x27;int&#x27;&gt;))]),\n",
       "                                 [&#x27;SEX&#x27;]),\n",
       "                                (&#x27;pipeline-3&#x27;,\n",
       "                                 Pipeline(steps=[(&#x27;onehotencoder&#x27;,\n",
       "                                                  OneHotEncoder(handle_unknown=&#x27;ignore&#x27;,\n",
       "                                                                sparse=False))]),\n",
       "                                 [&#x27;MARRIAGE&#x27;, &#x27;EDUCATION&#x27;])])</pre><b>In a Jupyter environment, please rerun this cell to show the HTML representation or trust the notebook. <br />On GitHub, the HTML representation is unable to render, please try loading this page with nbviewer.org.</b></div><div class=\"sk-container\" hidden><div class=\"sk-item sk-dashed-wrapped\"><div class=\"sk-label-container\"><div class=\"sk-label sk-toggleable\"><input class=\"sk-toggleable__control sk-hidden--visually\" id=\"sk-estimator-id-1\" type=\"checkbox\" ><label for=\"sk-estimator-id-1\" class=\"sk-toggleable__label sk-toggleable__label-arrow\">ColumnTransformer</label><div class=\"sk-toggleable__content\"><pre>ColumnTransformer(transformers=[(&#x27;pipeline-1&#x27;,\n",
       "                                 Pipeline(steps=[(&#x27;standardscaler&#x27;,\n",
       "                                                  StandardScaler())]),\n",
       "                                 [&#x27;PAY_5&#x27;, &#x27;BILL_AMT_7&#x27;, &#x27;BILL_AMT_4&#x27;,\n",
       "                                  &#x27;PAY_AMT_5&#x27;, &#x27;PAY_7&#x27;, &#x27;BILL_AMT_8&#x27;,\n",
       "                                  &#x27;BILL_AMT_5&#x27;, &#x27;BILL_AMT_6&#x27;, &#x27;PAY_AMT_4&#x27;,\n",
       "                                  &#x27;PAY_8&#x27;, &#x27;BILL_AMT_9&#x27;, &#x27;PAY_6&#x27;, &#x27;PAY_AMT_6&#x27;,\n",
       "                                  &#x27;PAY_4&#x27;, &#x27;PAY_9&#x27;, &#x27;PAY_AMT_7&#x27;, &#x27;LIMIT_BAL&#x27;,\n",
       "                                  &#x27;AGE&#x27;, &#x27;rest_payment&#x27;, &#x27;PAY_AMT_8&#x27;,\n",
       "                                  &#x27;PAY_AMT_9&#x27;]),\n",
       "                                (&#x27;pipeline-2&#x27;,\n",
       "                                 Pipeline(steps=[(&#x27;onehotencoder&#x27;,\n",
       "                                                  OneHotEncoder(drop=&#x27;if_binary&#x27;,\n",
       "                                                                dtype=&lt;class &#x27;int&#x27;&gt;))]),\n",
       "                                 [&#x27;SEX&#x27;]),\n",
       "                                (&#x27;pipeline-3&#x27;,\n",
       "                                 Pipeline(steps=[(&#x27;onehotencoder&#x27;,\n",
       "                                                  OneHotEncoder(handle_unknown=&#x27;ignore&#x27;,\n",
       "                                                                sparse=False))]),\n",
       "                                 [&#x27;MARRIAGE&#x27;, &#x27;EDUCATION&#x27;])])</pre></div></div></div><div class=\"sk-parallel\"><div class=\"sk-parallel-item\"><div class=\"sk-item\"><div class=\"sk-label-container\"><div class=\"sk-label sk-toggleable\"><input class=\"sk-toggleable__control sk-hidden--visually\" id=\"sk-estimator-id-2\" type=\"checkbox\" ><label for=\"sk-estimator-id-2\" class=\"sk-toggleable__label sk-toggleable__label-arrow\">pipeline-1</label><div class=\"sk-toggleable__content\"><pre>[&#x27;PAY_5&#x27;, &#x27;BILL_AMT_7&#x27;, &#x27;BILL_AMT_4&#x27;, &#x27;PAY_AMT_5&#x27;, &#x27;PAY_7&#x27;, &#x27;BILL_AMT_8&#x27;, &#x27;BILL_AMT_5&#x27;, &#x27;BILL_AMT_6&#x27;, &#x27;PAY_AMT_4&#x27;, &#x27;PAY_8&#x27;, &#x27;BILL_AMT_9&#x27;, &#x27;PAY_6&#x27;, &#x27;PAY_AMT_6&#x27;, &#x27;PAY_4&#x27;, &#x27;PAY_9&#x27;, &#x27;PAY_AMT_7&#x27;, &#x27;LIMIT_BAL&#x27;, &#x27;AGE&#x27;, &#x27;rest_payment&#x27;, &#x27;PAY_AMT_8&#x27;, &#x27;PAY_AMT_9&#x27;]</pre></div></div></div><div class=\"sk-serial\"><div class=\"sk-item\"><div class=\"sk-serial\"><div class=\"sk-item\"><div class=\"sk-estimator sk-toggleable\"><input class=\"sk-toggleable__control sk-hidden--visually\" id=\"sk-estimator-id-3\" type=\"checkbox\" ><label for=\"sk-estimator-id-3\" class=\"sk-toggleable__label sk-toggleable__label-arrow\">StandardScaler</label><div class=\"sk-toggleable__content\"><pre>StandardScaler()</pre></div></div></div></div></div></div></div></div><div class=\"sk-parallel-item\"><div class=\"sk-item\"><div class=\"sk-label-container\"><div class=\"sk-label sk-toggleable\"><input class=\"sk-toggleable__control sk-hidden--visually\" id=\"sk-estimator-id-4\" type=\"checkbox\" ><label for=\"sk-estimator-id-4\" class=\"sk-toggleable__label sk-toggleable__label-arrow\">pipeline-2</label><div class=\"sk-toggleable__content\"><pre>[&#x27;SEX&#x27;]</pre></div></div></div><div class=\"sk-serial\"><div class=\"sk-item\"><div class=\"sk-serial\"><div class=\"sk-item\"><div class=\"sk-estimator sk-toggleable\"><input class=\"sk-toggleable__control sk-hidden--visually\" id=\"sk-estimator-id-5\" type=\"checkbox\" ><label for=\"sk-estimator-id-5\" class=\"sk-toggleable__label sk-toggleable__label-arrow\">OneHotEncoder</label><div class=\"sk-toggleable__content\"><pre>OneHotEncoder(drop=&#x27;if_binary&#x27;, dtype=&lt;class &#x27;int&#x27;&gt;)</pre></div></div></div></div></div></div></div></div><div class=\"sk-parallel-item\"><div class=\"sk-item\"><div class=\"sk-label-container\"><div class=\"sk-label sk-toggleable\"><input class=\"sk-toggleable__control sk-hidden--visually\" id=\"sk-estimator-id-6\" type=\"checkbox\" ><label for=\"sk-estimator-id-6\" class=\"sk-toggleable__label sk-toggleable__label-arrow\">pipeline-3</label><div class=\"sk-toggleable__content\"><pre>[&#x27;MARRIAGE&#x27;, &#x27;EDUCATION&#x27;]</pre></div></div></div><div class=\"sk-serial\"><div class=\"sk-item\"><div class=\"sk-serial\"><div class=\"sk-item\"><div class=\"sk-estimator sk-toggleable\"><input class=\"sk-toggleable__control sk-hidden--visually\" id=\"sk-estimator-id-7\" type=\"checkbox\" ><label for=\"sk-estimator-id-7\" class=\"sk-toggleable__label sk-toggleable__label-arrow\">OneHotEncoder</label><div class=\"sk-toggleable__content\"><pre>OneHotEncoder(handle_unknown=&#x27;ignore&#x27;, sparse=False)</pre></div></div></div></div></div></div></div></div></div></div></div></div>"
      ],
      "text/plain": [
       "ColumnTransformer(transformers=[('pipeline-1',\n",
       "                                 Pipeline(steps=[('standardscaler',\n",
       "                                                  StandardScaler())]),\n",
       "                                 ['PAY_5', 'BILL_AMT_7', 'BILL_AMT_4',\n",
       "                                  'PAY_AMT_5', 'PAY_7', 'BILL_AMT_8',\n",
       "                                  'BILL_AMT_5', 'BILL_AMT_6', 'PAY_AMT_4',\n",
       "                                  'PAY_8', 'BILL_AMT_9', 'PAY_6', 'PAY_AMT_6',\n",
       "                                  'PAY_4', 'PAY_9', 'PAY_AMT_7', 'LIMIT_BAL',\n",
       "                                  'AGE', 'rest_payment', 'PAY_AMT_8',\n",
       "                                  'PAY_AMT_9']),\n",
       "                                ('pipeline-2',\n",
       "                                 Pipeline(steps=[('onehotencoder',\n",
       "                                                  OneHotEncoder(drop='if_binary',\n",
       "                                                                dtype=<class 'int'>))]),\n",
       "                                 ['SEX']),\n",
       "                                ('pipeline-3',\n",
       "                                 Pipeline(steps=[('onehotencoder',\n",
       "                                                  OneHotEncoder(handle_unknown='ignore',\n",
       "                                                                sparse=False))]),\n",
       "                                 ['MARRIAGE', 'EDUCATION'])])"
      ]
     },
     "execution_count": 22,
     "metadata": {},
     "output_type": "execute_result"
    }
   ],
   "source": [
    "numeric_transformer = make_pipeline(StandardScaler())\n",
    "\n",
    "categorical_transformer = make_pipeline(\n",
    "    OneHotEncoder(handle_unknown=\"ignore\", sparse=False),\n",
    ")\n",
    "\n",
    "binary_transformer = make_pipeline(\n",
    "    OneHotEncoder(drop=\"if_binary\", dtype=int),\n",
    ")\n",
    "\n",
    "preprocessor = make_column_transformer(\n",
    "    (numeric_transformer, numeric_features),\n",
    "    (binary_transformer, binary_features),\n",
    "    (categorical_transformer, categorical_features),\n",
    ")\n",
    "preprocessor"
   ]
  },
  {
   "cell_type": "markdown",
   "metadata": {},
   "source": [
    "* For all the numeric_features, the StandardScaler was performed to scale all of them to be distributed with mean 0 and standard deviation 1 since they have different ranges.\n",
    "* For the categorical_features, the OneHotEncoder was performed to convert them into a binary vector representation, which can be understood and processed by machine learning algorithms.\n",
    "* For the binary_features, the OneHotEncoder with `drop=\"if_binary\"` argument was performed to convert them into a binary vector representation in just one column.\n",
    "\n",
    "Note: Since there are no missing values, there is no imputation performed."
   ]
  },
  {
   "cell_type": "code",
   "execution_count": 23,
   "metadata": {
    "tags": []
   },
   "outputs": [],
   "source": [
    "X_train_pp = preprocessor.fit_transform(X_train)\n",
    "\n",
    "column_names = (numeric_features + binary_features\n",
    "                + list(preprocessor.named_transformers_[\"pipeline-3\"].named_steps[\"onehotencoder\"].get_feature_names_out()))"
   ]
  },
  {
   "cell_type": "markdown",
   "metadata": {},
   "source": [
    "<!-- END QUESTION -->\n",
    "\n",
    "<br><br>"
   ]
  },
  {
   "cell_type": "markdown",
   "metadata": {},
   "source": [
    "### Models"
   ]
  },
  {
   "cell_type": "markdown",
   "metadata": {},
   "source": [
    "#### Baseline Model"
   ]
  },
  {
   "cell_type": "code",
   "execution_count": 24,
   "metadata": {
    "tags": []
   },
   "outputs": [],
   "source": [
    "results = {}\n",
    "\n",
    "def mean_std_cross_val_scores(model, X_train, y_train, **kwargs):\n",
    "    \"\"\"\n",
    "    Returns mean and std of cross validation\n",
    "\n",
    "    Parameters\n",
    "    ----------\n",
    "    model :\n",
    "        scikit-learn model\n",
    "    X_train : numpy array or pandas DataFrame\n",
    "        X in the training data\n",
    "    y_train :\n",
    "        y in the training data\n",
    "\n",
    "    Returns\n",
    "    ----------\n",
    "        pandas Series with mean scores from cross_validation\n",
    "    \"\"\"\n",
    "\n",
    "    scores = cross_validate(model, X_train, y_train, **kwargs)\n",
    "\n",
    "    mean_scores = pd.DataFrame(scores).mean()\n",
    "    std_scores = pd.DataFrame(scores).std()\n",
    "    out_col = []\n",
    "\n",
    "    for i in range(len(mean_scores)):\n",
    "        out_col.append((\"%0.3f (+/- %0.3f)\" % (mean_scores[i], std_scores[i])))\n",
    "\n",
    "    return pd.Series(data=out_col, index=mean_scores.index)"
   ]
  },
  {
   "cell_type": "code",
   "execution_count": 25,
   "metadata": {
    "tags": []
   },
   "outputs": [
    {
     "data": {
      "text/plain": [
       "0.7767619047619048"
      ]
     },
     "execution_count": 25,
     "metadata": {},
     "output_type": "execute_result"
    }
   ],
   "source": [
    "Dummy_pipe = make_pipeline(preprocessor, DummyClassifier())\n",
    "Dummy_pipe.fit(X_train,y_train)\n",
    "dummy_score = Dummy_pipe.score(X_train,y_train)\n",
    "dummy_score"
   ]
  },
  {
   "cell_type": "markdown",
   "metadata": {},
   "source": [
    "The dummy classifier uses the baseline of the most frequent category in the `y_train` to do the prediction. The output of dummy_score is the proportion of the most frequent class among the training set, which is the proportion of the category '0'. Check it below:"
   ]
  },
  {
   "cell_type": "code",
   "execution_count": 26,
   "metadata": {
    "tags": []
   },
   "outputs": [
    {
     "data": {
      "text/plain": [
       "True"
      ]
     },
     "execution_count": 26,
     "metadata": {},
     "output_type": "execute_result"
    }
   ],
   "source": [
    "proportion_0 = (pd.DataFrame(y_train)['default_pay'] == 0).mean()\n",
    "\n",
    "dummy_score == proportion_0"
   ]
  },
  {
   "cell_type": "markdown",
   "metadata": {},
   "source": [
    "Also, the `DummyClassifier` returns the score of 'accuracy' rather than the 'recall'. Since there is no scoring argument in `DummyClassifier` for changing the scoring metric, we need cross-validation to change the scoring metric to get those metric scores and get a more reliable estimate of the model performance."
   ]
  },
  {
   "cell_type": "markdown",
   "metadata": {},
   "source": [
    "<!-- END QUESTION -->\n",
    "\n"
   ]
  },
  {
   "cell_type": "code",
   "execution_count": 27,
   "metadata": {},
   "outputs": [
    {
     "name": "stderr",
     "output_type": "stream",
     "text": [
      "/Users/haojiang/miniconda3/envs/cpsc330/lib/python3.10/site-packages/sklearn/metrics/_classification.py:1334: UndefinedMetricWarning: Precision is ill-defined and being set to 0.0 due to no predicted samples. Use `zero_division` parameter to control this behavior.\n",
      "  _warn_prf(average, modifier, msg_start, len(result))\n",
      "/Users/haojiang/miniconda3/envs/cpsc330/lib/python3.10/site-packages/sklearn/metrics/_classification.py:1334: UndefinedMetricWarning: Precision is ill-defined and being set to 0.0 due to no predicted samples. Use `zero_division` parameter to control this behavior.\n",
      "  _warn_prf(average, modifier, msg_start, len(result))\n",
      "/Users/haojiang/miniconda3/envs/cpsc330/lib/python3.10/site-packages/sklearn/metrics/_classification.py:1334: UndefinedMetricWarning: Precision is ill-defined and being set to 0.0 due to no predicted samples. Use `zero_division` parameter to control this behavior.\n",
      "  _warn_prf(average, modifier, msg_start, len(result))\n",
      "/Users/haojiang/miniconda3/envs/cpsc330/lib/python3.10/site-packages/sklearn/metrics/_classification.py:1334: UndefinedMetricWarning: Precision is ill-defined and being set to 0.0 due to no predicted samples. Use `zero_division` parameter to control this behavior.\n",
      "  _warn_prf(average, modifier, msg_start, len(result))\n",
      "/Users/haojiang/miniconda3/envs/cpsc330/lib/python3.10/site-packages/sklearn/metrics/_classification.py:1334: UndefinedMetricWarning: Precision is ill-defined and being set to 0.0 due to no predicted samples. Use `zero_division` parameter to control this behavior.\n",
      "  _warn_prf(average, modifier, msg_start, len(result))\n"
     ]
    },
    {
     "data": {
      "text/plain": [
       "fit_time          0.010 (+/- 0.001)\n",
       "score_time        0.006 (+/- 0.001)\n",
       "test_precision    0.000 (+/- 0.000)\n",
       "test_recall       0.000 (+/- 0.000)\n",
       "test_f1           0.000 (+/- 0.000)\n",
       "dtype: object"
      ]
     },
     "execution_count": 27,
     "metadata": {},
     "output_type": "execute_result"
    }
   ],
   "source": [
    "dummy_corss_scores = mean_std_cross_val_scores(Dummy_pipe, X_train, y_train, scoring=scoring_metrics)\n",
    "dummy_corss_scores"
   ]
  },
  {
   "cell_type": "markdown",
   "metadata": {},
   "source": [
    "Since the most frequent class is not '1' (the positive class) and all rows of class '1' would be wrongly predicted as the class '0', it is expected that the recall of the dummy model is 0."
   ]
  },
  {
   "cell_type": "markdown",
   "metadata": {},
   "source": [
    "<br><br>"
   ]
  },
  {
   "cell_type": "markdown",
   "metadata": {},
   "source": [
    "#### Linear Models"
   ]
  },
  {
   "cell_type": "markdown",
   "metadata": {},
   "source": [
    "Since our target `default_pay` is a binary variable, the Logistic Regression model was used to classify it. Also, `class_weight`='balanced' is used to handle the imbalance issue of the data since the probability of falsely classifying the client who will default payment to a non-default category is aimed to decrease. "
   ]
  },
  {
   "cell_type": "code",
   "execution_count": 28,
   "metadata": {
    "tags": []
   },
   "outputs": [
    {
     "data": {
      "text/plain": [
       "fit_time           0.064 (+/- 0.018)\n",
       "score_time         0.006 (+/- 0.000)\n",
       "test_precision     0.378 (+/- 0.007)\n",
       "train_precision    0.381 (+/- 0.003)\n",
       "test_recall        0.648 (+/- 0.020)\n",
       "train_recall       0.649 (+/- 0.005)\n",
       "test_f1            0.478 (+/- 0.008)\n",
       "train_f1           0.480 (+/- 0.003)\n",
       "dtype: object"
      ]
     },
     "execution_count": 28,
     "metadata": {},
     "output_type": "execute_result"
    }
   ],
   "source": [
    "lr_pipe = make_pipeline(preprocessor,  LogisticRegression(class_weight=\"balanced\", max_iter = 1000, random_state=123))\n",
    "lr_cross_scores = mean_std_cross_val_scores(lr_pipe, X_train, y_train, return_train_score=True, scoring = scoring_metrics)\n",
    "lr_cross_scores"
   ]
  },
  {
   "cell_type": "markdown",
   "metadata": {},
   "source": [
    "The mean cross-validation recall score of Logistic Regression based on the default C is 0.648 and the mean cross-validation f1 score is 0.478."
   ]
  },
  {
   "cell_type": "markdown",
   "metadata": {
    "tags": []
   },
   "source": [
    "##### Hyperparameter Tuning"
   ]
  },
  {
   "cell_type": "markdown",
   "metadata": {},
   "source": [
    "Even though choosing the best model by trade-off on those three scores (precision, recall, and f1), we decided to take care more of Type II error to get a higher true positive rate for detection and chose the 'recall' as the metric for the hyperparameter tuning/optimization."
   ]
  },
  {
   "cell_type": "code",
   "execution_count": 29,
   "metadata": {
    "tags": []
   },
   "outputs": [],
   "source": [
    "score = \"recall\""
   ]
  },
  {
   "cell_type": "code",
   "execution_count": 30,
   "metadata": {
    "tags": []
   },
   "outputs": [
    {
     "name": "stderr",
     "output_type": "stream",
     "text": [
      "/Users/haojiang/miniconda3/envs/cpsc330/lib/python3.10/site-packages/sklearn/model_selection/_search.py:306: UserWarning: The total space of parameters 7 is smaller than n_iter=30. Running 7 iterations. For exhaustive searches, use GridSearchCV.\n",
      "  warnings.warn(\n"
     ]
    },
    {
     "data": {
      "text/html": [
       "<div>\n",
       "<style scoped>\n",
       "    .dataframe tbody tr th:only-of-type {\n",
       "        vertical-align: middle;\n",
       "    }\n",
       "\n",
       "    .dataframe tbody tr th {\n",
       "        vertical-align: top;\n",
       "    }\n",
       "\n",
       "    .dataframe thead th {\n",
       "        text-align: right;\n",
       "    }\n",
       "</style>\n",
       "<table border=\"1\" class=\"dataframe\">\n",
       "  <thead>\n",
       "    <tr style=\"text-align: right;\">\n",
       "      <th>rank_test_score</th>\n",
       "      <th>1</th>\n",
       "      <th>2</th>\n",
       "      <th>2</th>\n",
       "      <th>2</th>\n",
       "      <th>2</th>\n",
       "      <th>6</th>\n",
       "      <th>7</th>\n",
       "    </tr>\n",
       "  </thead>\n",
       "  <tbody>\n",
       "    <tr>\n",
       "      <th>mean_test_score</th>\n",
       "      <td>0.647605</td>\n",
       "      <td>0.647392</td>\n",
       "      <td>0.647392</td>\n",
       "      <td>0.647392</td>\n",
       "      <td>0.647392</td>\n",
       "      <td>0.646112</td>\n",
       "      <td>0.621586</td>\n",
       "    </tr>\n",
       "    <tr>\n",
       "      <th>param_logisticregression__C</th>\n",
       "      <td>1.0</td>\n",
       "      <td>5</td>\n",
       "      <td>10</td>\n",
       "      <td>50</td>\n",
       "      <td>100</td>\n",
       "      <td>0.1</td>\n",
       "      <td>0.001</td>\n",
       "    </tr>\n",
       "    <tr>\n",
       "      <th>mean_fit_time</th>\n",
       "      <td>0.060695</td>\n",
       "      <td>0.052336</td>\n",
       "      <td>0.052594</td>\n",
       "      <td>0.052515</td>\n",
       "      <td>0.052309</td>\n",
       "      <td>0.067508</td>\n",
       "      <td>0.026793</td>\n",
       "    </tr>\n",
       "    <tr>\n",
       "      <th>std_test_score</th>\n",
       "      <td>0.017546</td>\n",
       "      <td>0.017871</td>\n",
       "      <td>0.017871</td>\n",
       "      <td>0.017871</td>\n",
       "      <td>0.017871</td>\n",
       "      <td>0.017923</td>\n",
       "      <td>0.01924</td>\n",
       "    </tr>\n",
       "  </tbody>\n",
       "</table>\n",
       "</div>"
      ],
      "text/plain": [
       "rank_test_score                     1         2         2         2         2  \\\n",
       "mean_test_score              0.647605  0.647392  0.647392  0.647392  0.647392   \n",
       "param_logisticregression__C       1.0         5        10        50       100   \n",
       "mean_fit_time                0.060695  0.052336  0.052594  0.052515  0.052309   \n",
       "std_test_score               0.017546  0.017871  0.017871  0.017871  0.017871   \n",
       "\n",
       "rank_test_score                     6         7  \n",
       "mean_test_score              0.646112  0.621586  \n",
       "param_logisticregression__C       0.1     0.001  \n",
       "mean_fit_time                0.067508  0.026793  \n",
       "std_test_score               0.017923   0.01924  "
      ]
     },
     "execution_count": 30,
     "metadata": {},
     "output_type": "execute_result"
    }
   ],
   "source": [
    "from scipy.stats import uniform\n",
    "param_dist = {\n",
    "    \"logisticregression__C\": [0.001, 0.1, 1.0, 5, 10, 50, 100]\n",
    "}\n",
    "\n",
    "random_search = RandomizedSearchCV(lr_pipe, param_distributions=param_dist, scoring=score, n_iter=30, random_state=51)\n",
    "random_search.fit(X_train, y_train)\n",
    "relevant = ['mean_test_score',\n",
    "             'param_logisticregression__C',\n",
    "             'mean_fit_time',\n",
    "             'rank_test_score',\n",
    "             'std_test_score',]\n",
    "pd.DataFrame(random_search.cv_results_)[relevant].set_index(\"rank_test_score\").sort_index().T\n"
   ]
  },
  {
   "cell_type": "markdown",
   "metadata": {
    "tags": []
   },
   "source": [
    "Based on the possible values [0.001, 0.01, 0.4, 1.0, 10, 100], the Logistic Regression model with `C` = 1 has the highest mean cross-validation recall score (0.648) which is the same as the Logistic Regression model with the default `C` = 1. Thus, the model with `C` = 1 is the best linear model."
   ]
  },
  {
   "cell_type": "code",
   "execution_count": 31,
   "metadata": {
    "tags": []
   },
   "outputs": [],
   "source": [
    "best_lr_pipe = make_pipeline(preprocessor, LogisticRegression(class_weight=\"balanced\", C = 1, max_iter = 1000))"
   ]
  },
  {
   "cell_type": "markdown",
   "metadata": {},
   "source": [
    "*Note: Even though we used the RandomizedSearchCV for optimization, it actually does the same thing as the GridSearch here since the lack of knowledge of the distribution or range for the hyperparameters.*"
   ]
  },
  {
   "cell_type": "markdown",
   "metadata": {},
   "source": [
    "<!-- END QUESTION -->\n",
    "\n",
    "<br><br>"
   ]
  },
  {
   "cell_type": "markdown",
   "metadata": {},
   "source": [
    "#### Extra Models"
   ]
  },
  {
   "cell_type": "code",
   "execution_count": 32,
   "metadata": {
    "tags": []
   },
   "outputs": [],
   "source": [
    "from sklearn.svm import SVC\n",
    "from catboost import CatBoostClassifier\n",
    "from xgboost import XGBClassifier"
   ]
  },
  {
   "cell_type": "markdown",
   "metadata": {},
   "source": [
    "To avoid breaking the golden rule, we built different pipes for each models. We chose the Supporting Vector with rbf, the Random Forest, the XGBoost, and the CatBoost Classifiers to see how would the non-linear model perform."
   ]
  },
  {
   "cell_type": "code",
   "execution_count": 33,
   "metadata": {
    "tags": []
   },
   "outputs": [],
   "source": [
    "svc_pipe = make_pipeline(preprocessor, SVC(class_weight='balanced'))\n",
    "rf_pipe = make_pipeline(preprocessor, RandomForestClassifier(class_weight='balanced',random_state=123, n_jobs=-1))\n",
    "xgb_pipe = make_pipeline(preprocessor, XGBClassifier(class_weight='balanced',random_state=123, eval_metric=\"logloss\", verbosity=0))\n",
    "catboost_pipe = make_pipeline(preprocessor, CatBoostClassifier(class_weights=[1,3],verbose=0, random_state=123))"
   ]
  },
  {
   "cell_type": "code",
   "execution_count": 34,
   "metadata": {
    "tags": []
   },
   "outputs": [
    {
     "data": {
      "text/plain": [
       "3.4795221843003414"
      ]
     },
     "execution_count": 34,
     "metadata": {},
     "output_type": "execute_result"
    }
   ],
   "source": [
    "y_train_counts = pd.Series(y_train).value_counts()\n",
    "ratio = y_train_counts[0] / y_train_counts[1]\n",
    "ratio"
   ]
  },
  {
   "cell_type": "markdown",
   "metadata": {},
   "source": [
    "As shown in the EDA, class '0' has more observations than the class '1'. We get the exact ratio that class '0' is 3.4795 of class '1'. Since there's no class_weight='balanced' argument in the CatBoostClassifier, we balance their weights manually."
   ]
  },
  {
   "cell_type": "code",
   "execution_count": 35,
   "metadata": {},
   "outputs": [],
   "source": [
    "import warnings\n",
    "from sklearn.exceptions import UndefinedMetricWarning\n",
    "classifiers = {\n",
    "    \"Dummy\": Dummy_pipe,\n",
    "    \"Logistic Regression\": lr_pipe,\n",
    "    \"SVC rbf\": svc_pipe,\n",
    "    \"Random Forest\": rf_pipe,\n",
    "    \"XGBoost\": xgb_pipe,\n",
    "    \"CatBoost\": catboost_pipe,\n",
    "}\n",
    "\n",
    "warnings.filterwarnings(\"ignore\", category=UndefinedMetricWarning)\n",
    "\n",
    "for name, model in classifiers.items():\n",
    "    results[name] = mean_std_cross_val_scores(model, X_train, y_train,\n",
    "                                       scoring = scoring_metrics, return_train_score=True)\n",
    "    \n",
    "warnings.filterwarnings(\"default\", category=UndefinedMetricWarning)"
   ]
  },
  {
   "cell_type": "markdown",
   "metadata": {},
   "source": [
    "#### Summary:"
   ]
  },
  {
   "cell_type": "code",
   "execution_count": 36,
   "metadata": {
    "tags": []
   },
   "outputs": [
    {
     "data": {
      "text/html": [
       "<div>\n",
       "<style scoped>\n",
       "    .dataframe tbody tr th:only-of-type {\n",
       "        vertical-align: middle;\n",
       "    }\n",
       "\n",
       "    .dataframe tbody tr th {\n",
       "        vertical-align: top;\n",
       "    }\n",
       "\n",
       "    .dataframe thead th {\n",
       "        text-align: right;\n",
       "    }\n",
       "</style>\n",
       "<table border=\"1\" class=\"dataframe\">\n",
       "  <thead>\n",
       "    <tr style=\"text-align: right;\">\n",
       "      <th></th>\n",
       "      <th>fit_time</th>\n",
       "      <th>score_time</th>\n",
       "      <th>test_precision</th>\n",
       "      <th>train_precision</th>\n",
       "      <th>test_recall</th>\n",
       "      <th>train_recall</th>\n",
       "      <th>test_f1</th>\n",
       "      <th>train_f1</th>\n",
       "    </tr>\n",
       "  </thead>\n",
       "  <tbody>\n",
       "    <tr>\n",
       "      <th>Dummy</th>\n",
       "      <td>0.010 (+/- 0.001)</td>\n",
       "      <td>0.005 (+/- 0.000)</td>\n",
       "      <td>0.000 (+/- 0.000)</td>\n",
       "      <td>0.000 (+/- 0.000)</td>\n",
       "      <td>0.000 (+/- 0.000)</td>\n",
       "      <td>0.000 (+/- 0.000)</td>\n",
       "      <td>0.000 (+/- 0.000)</td>\n",
       "      <td>0.000 (+/- 0.000)</td>\n",
       "    </tr>\n",
       "    <tr>\n",
       "      <th>Logistic Regression</th>\n",
       "      <td>0.061 (+/- 0.017)</td>\n",
       "      <td>0.006 (+/- 0.000)</td>\n",
       "      <td>0.378 (+/- 0.007)</td>\n",
       "      <td>0.381 (+/- 0.003)</td>\n",
       "      <td>0.648 (+/- 0.020)</td>\n",
       "      <td>0.649 (+/- 0.005)</td>\n",
       "      <td>0.478 (+/- 0.008)</td>\n",
       "      <td>0.480 (+/- 0.003)</td>\n",
       "    </tr>\n",
       "    <tr>\n",
       "      <th>SVC rbf</th>\n",
       "      <td>9.519 (+/- 0.088)</td>\n",
       "      <td>2.297 (+/- 0.017)</td>\n",
       "      <td>0.509 (+/- 0.021)</td>\n",
       "      <td>0.528 (+/- 0.003)</td>\n",
       "      <td>0.580 (+/- 0.009)</td>\n",
       "      <td>0.607 (+/- 0.002)</td>\n",
       "      <td>0.542 (+/- 0.016)</td>\n",
       "      <td>0.565 (+/- 0.002)</td>\n",
       "    </tr>\n",
       "    <tr>\n",
       "      <th>Random Forest</th>\n",
       "      <td>0.733 (+/- 0.310)</td>\n",
       "      <td>0.032 (+/- 0.003)</td>\n",
       "      <td>0.657 (+/- 0.025)</td>\n",
       "      <td>0.997 (+/- 0.000)</td>\n",
       "      <td>0.347 (+/- 0.009)</td>\n",
       "      <td>1.000 (+/- 0.000)</td>\n",
       "      <td>0.454 (+/- 0.010)</td>\n",
       "      <td>0.999 (+/- 0.000)</td>\n",
       "    </tr>\n",
       "    <tr>\n",
       "      <th>XGBoost</th>\n",
       "      <td>0.756 (+/- 0.025)</td>\n",
       "      <td>0.008 (+/- 0.000)</td>\n",
       "      <td>0.637 (+/- 0.020)</td>\n",
       "      <td>0.909 (+/- 0.011)</td>\n",
       "      <td>0.366 (+/- 0.012)</td>\n",
       "      <td>0.617 (+/- 0.013)</td>\n",
       "      <td>0.464 (+/- 0.011)</td>\n",
       "      <td>0.735 (+/- 0.012)</td>\n",
       "    </tr>\n",
       "    <tr>\n",
       "      <th>CatBoost</th>\n",
       "      <td>3.724 (+/- 0.048)</td>\n",
       "      <td>0.025 (+/- 0.001)</td>\n",
       "      <td>0.524 (+/- 0.021)</td>\n",
       "      <td>0.640 (+/- 0.003)</td>\n",
       "      <td>0.571 (+/- 0.011)</td>\n",
       "      <td>0.757 (+/- 0.004)</td>\n",
       "      <td>0.546 (+/- 0.016)</td>\n",
       "      <td>0.693 (+/- 0.002)</td>\n",
       "    </tr>\n",
       "  </tbody>\n",
       "</table>\n",
       "</div>"
      ],
      "text/plain": [
       "                              fit_time         score_time     test_precision  \\\n",
       "Dummy                0.010 (+/- 0.001)  0.005 (+/- 0.000)  0.000 (+/- 0.000)   \n",
       "Logistic Regression  0.061 (+/- 0.017)  0.006 (+/- 0.000)  0.378 (+/- 0.007)   \n",
       "SVC rbf              9.519 (+/- 0.088)  2.297 (+/- 0.017)  0.509 (+/- 0.021)   \n",
       "Random Forest        0.733 (+/- 0.310)  0.032 (+/- 0.003)  0.657 (+/- 0.025)   \n",
       "XGBoost              0.756 (+/- 0.025)  0.008 (+/- 0.000)  0.637 (+/- 0.020)   \n",
       "CatBoost             3.724 (+/- 0.048)  0.025 (+/- 0.001)  0.524 (+/- 0.021)   \n",
       "\n",
       "                       train_precision        test_recall       train_recall  \\\n",
       "Dummy                0.000 (+/- 0.000)  0.000 (+/- 0.000)  0.000 (+/- 0.000)   \n",
       "Logistic Regression  0.381 (+/- 0.003)  0.648 (+/- 0.020)  0.649 (+/- 0.005)   \n",
       "SVC rbf              0.528 (+/- 0.003)  0.580 (+/- 0.009)  0.607 (+/- 0.002)   \n",
       "Random Forest        0.997 (+/- 0.000)  0.347 (+/- 0.009)  1.000 (+/- 0.000)   \n",
       "XGBoost              0.909 (+/- 0.011)  0.366 (+/- 0.012)  0.617 (+/- 0.013)   \n",
       "CatBoost             0.640 (+/- 0.003)  0.571 (+/- 0.011)  0.757 (+/- 0.004)   \n",
       "\n",
       "                               test_f1           train_f1  \n",
       "Dummy                0.000 (+/- 0.000)  0.000 (+/- 0.000)  \n",
       "Logistic Regression  0.478 (+/- 0.008)  0.480 (+/- 0.003)  \n",
       "SVC rbf              0.542 (+/- 0.016)  0.565 (+/- 0.002)  \n",
       "Random Forest        0.454 (+/- 0.010)  0.999 (+/- 0.000)  \n",
       "XGBoost              0.464 (+/- 0.011)  0.735 (+/- 0.012)  \n",
       "CatBoost             0.546 (+/- 0.016)  0.693 (+/- 0.002)  "
      ]
     },
     "execution_count": 36,
     "metadata": {},
     "output_type": "execute_result"
    }
   ],
   "source": [
    "pd.DataFrame(results).T"
   ]
  },
  {
   "cell_type": "markdown",
   "metadata": {},
   "source": [
    "We can see the Logistic Regression model has the highest validation recall score but not too high validation f1 score and a very low precision score. The SVC RBF model has the second-highest validation recall score, the second-highest f1 score, and a good precision score without concern about the overfitting issue. I would say the SVC RBF model seems to perform better than the linear model and it's almost the best one for right now. Since the above cross-validation results are based on their default hyperparameter values, we can process the hyperparameter optimization below and redo it for comparison."
   ]
  },
  {
   "cell_type": "markdown",
   "metadata": {},
   "source": [
    "<!-- END QUESTION -->\n",
    "\n",
    "<br><br>"
   ]
  },
  {
   "cell_type": "markdown",
   "metadata": {},
   "source": [
    "### Feature Selection"
   ]
  },
  {
   "cell_type": "code",
   "execution_count": 37,
   "metadata": {
    "tags": []
   },
   "outputs": [
    {
     "data": {
      "text/plain": [
       "fit_time       3.784835\n",
       "score_time     0.021280\n",
       "test_score     0.441880\n",
       "train_score    0.443702\n",
       "dtype: float64"
      ]
     },
     "execution_count": 37,
     "metadata": {},
     "output_type": "execute_result"
    }
   ],
   "source": [
    "from sklearn.feature_selection import RFECV\n",
    "\n",
    "rfe_pipe = make_pipeline(\n",
    "    StandardScaler(),\n",
    "    RFECV(LogisticRegression(max_iter=2000), cv=10),\n",
    "    RandomForestClassifier(n_estimators=100, random_state=123, n_jobs=-1),\n",
    ")\n",
    "\n",
    "pd.DataFrame(cross_validate(rfe_pipe, X_train, y_train, return_train_score=True, scoring= 'f1')).mean()"
   ]
  },
  {
   "cell_type": "code",
   "execution_count": 38,
   "metadata": {
    "tags": []
   },
   "outputs": [
    {
     "name": "stdout",
     "output_type": "stream",
     "text": [
      "[False False False False False False False False False False False False\n",
      " False False  True False False False False False False False False False\n",
      " False False False False  True]\n",
      "Index(['PAY_9', 'EDUCATION_4'], dtype='object')\n"
     ]
    }
   ],
   "source": [
    "X_train_enc= pd.DataFrame(X_train_pp, columns=column_names, index=X_train.index)\n",
    "\n",
    "rfe_cv = RFECV(LogisticRegression(max_iter=2000), cv=10)\n",
    "rfe_cv.fit(X_train_enc, y_train)\n",
    "print(rfe_cv.support_)\n",
    "print(X_train_enc.columns[rfe_cv.support_])"
   ]
  },
  {
   "cell_type": "markdown",
   "metadata": {},
   "source": [
    "By the Recursive feature elimination (RFE), these two 'PAY_9' and 'EDUCATION_4' features seem the most important features."
   ]
  },
  {
   "cell_type": "markdown",
   "metadata": {},
   "source": [
    "<!-- END QUESTION -->\n",
    "\n",
    "<br><br>"
   ]
  },
  {
   "cell_type": "markdown",
   "metadata": {},
   "source": [
    "### Hyperparameter Optimization"
   ]
  },
  {
   "cell_type": "markdown",
   "metadata": {},
   "source": [
    "For the more fair model comparison, we can optimize their hyperparameters and do the cross-validation again to compare them. All the criteria would be consistent as the hyperparameter tuning for the logistic regression."
   ]
  },
  {
   "cell_type": "markdown",
   "metadata": {},
   "source": [
    "#### SVC rbf "
   ]
  },
  {
   "cell_type": "code",
   "execution_count": 39,
   "metadata": {
    "tags": []
   },
   "outputs": [
    {
     "name": "stderr",
     "output_type": "stream",
     "text": [
      "/Users/haojiang/miniconda3/envs/cpsc330/lib/python3.10/site-packages/sklearn/model_selection/_search.py:306: UserWarning: The total space of parameters 9 is smaller than n_iter=10. Running 9 iterations. For exhaustive searches, use GridSearchCV.\n",
      "  warnings.warn(\n",
      "/Users/haojiang/miniconda3/envs/cpsc330/lib/python3.10/site-packages/joblib/externals/loky/process_executor.py:702: UserWarning: A worker stopped while some jobs were given to the executor. This can be caused by a too short worker timeout or by a memory leak.\n",
      "  warnings.warn(\n"
     ]
    },
    {
     "data": {
      "text/html": [
       "<div>\n",
       "<style scoped>\n",
       "    .dataframe tbody tr th:only-of-type {\n",
       "        vertical-align: middle;\n",
       "    }\n",
       "\n",
       "    .dataframe tbody tr th {\n",
       "        vertical-align: top;\n",
       "    }\n",
       "\n",
       "    .dataframe thead th {\n",
       "        text-align: right;\n",
       "    }\n",
       "</style>\n",
       "<table border=\"1\" class=\"dataframe\">\n",
       "  <thead>\n",
       "    <tr style=\"text-align: right;\">\n",
       "      <th></th>\n",
       "      <th>mean_test_score</th>\n",
       "      <th>param_svc__C</th>\n",
       "      <th>param_svc__gamma</th>\n",
       "      <th>mean_fit_time</th>\n",
       "      <th>std_test_score</th>\n",
       "    </tr>\n",
       "    <tr>\n",
       "      <th>rank_test_score</th>\n",
       "      <th></th>\n",
       "      <th></th>\n",
       "      <th></th>\n",
       "      <th></th>\n",
       "      <th></th>\n",
       "    </tr>\n",
       "  </thead>\n",
       "  <tbody>\n",
       "    <tr>\n",
       "      <th>1</th>\n",
       "      <td>0.580628</td>\n",
       "      <td>10</td>\n",
       "      <td>0.01</td>\n",
       "      <td>9.309737</td>\n",
       "      <td>0.010709</td>\n",
       "    </tr>\n",
       "    <tr>\n",
       "      <th>2</th>\n",
       "      <td>0.579348</td>\n",
       "      <td>1</td>\n",
       "      <td>0.1</td>\n",
       "      <td>8.863094</td>\n",
       "      <td>0.013143</td>\n",
       "    </tr>\n",
       "    <tr>\n",
       "      <th>3</th>\n",
       "      <td>0.571670</td>\n",
       "      <td>0.1</td>\n",
       "      <td>0.1</td>\n",
       "      <td>9.890229</td>\n",
       "      <td>0.006574</td>\n",
       "    </tr>\n",
       "    <tr>\n",
       "      <th>4</th>\n",
       "      <td>0.569111</td>\n",
       "      <td>1</td>\n",
       "      <td>0.01</td>\n",
       "      <td>9.151727</td>\n",
       "      <td>0.005458</td>\n",
       "    </tr>\n",
       "    <tr>\n",
       "      <th>5</th>\n",
       "      <td>0.544153</td>\n",
       "      <td>10</td>\n",
       "      <td>0.1</td>\n",
       "      <td>10.643412</td>\n",
       "      <td>0.006456</td>\n",
       "    </tr>\n",
       "  </tbody>\n",
       "</table>\n",
       "</div>"
      ],
      "text/plain": [
       "                 mean_test_score param_svc__C param_svc__gamma  mean_fit_time  \\\n",
       "rank_test_score                                                                 \n",
       "1                       0.580628           10             0.01       9.309737   \n",
       "2                       0.579348            1              0.1       8.863094   \n",
       "3                       0.571670          0.1              0.1       9.890229   \n",
       "4                       0.569111            1             0.01       9.151727   \n",
       "5                       0.544153           10              0.1      10.643412   \n",
       "\n",
       "                 std_test_score  \n",
       "rank_test_score                  \n",
       "1                      0.010709  \n",
       "2                      0.013143  \n",
       "3                      0.006574  \n",
       "4                      0.005458  \n",
       "5                      0.006456  "
      ]
     },
     "execution_count": 39,
     "metadata": {},
     "output_type": "execute_result"
    }
   ],
   "source": [
    "param_grid_svc = {\n",
    "    'svc__C': [0.1, 1, 10],\n",
    "    'svc__gamma': [0.1, 0.01, 0.001]\n",
    "}\n",
    "\n",
    "random_search_svc = RandomizedSearchCV(\n",
    "    svc_pipe, param_grid_svc, cv=3, n_jobs=-1, scoring=score, return_train_score=True, random_state=123\n",
    ")\n",
    "\n",
    "random_search_svc.fit(X_train, y_train)\n",
    "\n",
    "relevant = ['mean_test_score',\n",
    "             'param_svc__C',\n",
    "             'param_svc__gamma',\n",
    "             'mean_fit_time',\n",
    "             'rank_test_score',\n",
    "             'std_test_score',]\n",
    "pd.DataFrame(random_search_svc.cv_results_)[relevant].set_index(\"rank_test_score\").sort_index().head()"
   ]
  },
  {
   "cell_type": "markdown",
   "metadata": {},
   "source": [
    "From random search cross-validation, we can see the SVC with C = 10 and gamma = 0.01 get the highest validation recall score of 0.580628 which is slightly higher than the default one of 0.580 but it might be due to the decimal difference."
   ]
  },
  {
   "cell_type": "code",
   "execution_count": 40,
   "metadata": {
    "tags": []
   },
   "outputs": [],
   "source": [
    "best_svc_pipe = make_pipeline(preprocessor, SVC(C=10, gamma = 0.01, class_weight='balanced'))"
   ]
  },
  {
   "cell_type": "markdown",
   "metadata": {},
   "source": [
    "#### Random Forest "
   ]
  },
  {
   "cell_type": "code",
   "execution_count": 41,
   "metadata": {
    "tags": []
   },
   "outputs": [
    {
     "data": {
      "text/html": [
       "<div>\n",
       "<style scoped>\n",
       "    .dataframe tbody tr th:only-of-type {\n",
       "        vertical-align: middle;\n",
       "    }\n",
       "\n",
       "    .dataframe tbody tr th {\n",
       "        vertical-align: top;\n",
       "    }\n",
       "\n",
       "    .dataframe thead th {\n",
       "        text-align: right;\n",
       "    }\n",
       "</style>\n",
       "<table border=\"1\" class=\"dataframe\">\n",
       "  <thead>\n",
       "    <tr style=\"text-align: right;\">\n",
       "      <th></th>\n",
       "      <th>mean_test_score</th>\n",
       "      <th>param_randomforestclassifier__criterion</th>\n",
       "      <th>param_randomforestclassifier__min_samples_leaf</th>\n",
       "      <th>param_randomforestclassifier__max_depth</th>\n",
       "      <th>param_randomforestclassifier__min_samples_split</th>\n",
       "      <th>mean_fit_time</th>\n",
       "      <th>std_test_score</th>\n",
       "    </tr>\n",
       "    <tr>\n",
       "      <th>rank_test_score</th>\n",
       "      <th></th>\n",
       "      <th></th>\n",
       "      <th></th>\n",
       "      <th></th>\n",
       "      <th></th>\n",
       "      <th></th>\n",
       "      <th></th>\n",
       "    </tr>\n",
       "  </thead>\n",
       "  <tbody>\n",
       "    <tr>\n",
       "      <th>1</th>\n",
       "      <td>0.626917</td>\n",
       "      <td>gini</td>\n",
       "      <td>100</td>\n",
       "      <td>10</td>\n",
       "      <td>8</td>\n",
       "      <td>1.559090</td>\n",
       "      <td>0.013898</td>\n",
       "    </tr>\n",
       "    <tr>\n",
       "      <th>1</th>\n",
       "      <td>0.626917</td>\n",
       "      <td>gini</td>\n",
       "      <td>100</td>\n",
       "      <td>10</td>\n",
       "      <td>4</td>\n",
       "      <td>1.528477</td>\n",
       "      <td>0.013898</td>\n",
       "    </tr>\n",
       "    <tr>\n",
       "      <th>3</th>\n",
       "      <td>0.624571</td>\n",
       "      <td>entropy</td>\n",
       "      <td>100</td>\n",
       "      <td>10</td>\n",
       "      <td>6</td>\n",
       "      <td>1.728340</td>\n",
       "      <td>0.014194</td>\n",
       "    </tr>\n",
       "    <tr>\n",
       "      <th>4</th>\n",
       "      <td>0.621797</td>\n",
       "      <td>entropy</td>\n",
       "      <td>80</td>\n",
       "      <td>10</td>\n",
       "      <td>2</td>\n",
       "      <td>1.718100</td>\n",
       "      <td>0.014799</td>\n",
       "    </tr>\n",
       "    <tr>\n",
       "      <th>5</th>\n",
       "      <td>0.620518</td>\n",
       "      <td>gini</td>\n",
       "      <td>80</td>\n",
       "      <td>10</td>\n",
       "      <td>6</td>\n",
       "      <td>1.479119</td>\n",
       "      <td>0.012059</td>\n",
       "    </tr>\n",
       "  </tbody>\n",
       "</table>\n",
       "</div>"
      ],
      "text/plain": [
       "                 mean_test_score param_randomforestclassifier__criterion  \\\n",
       "rank_test_score                                                            \n",
       "1                       0.626917                                    gini   \n",
       "1                       0.626917                                    gini   \n",
       "3                       0.624571                                 entropy   \n",
       "4                       0.621797                                 entropy   \n",
       "5                       0.620518                                    gini   \n",
       "\n",
       "                param_randomforestclassifier__min_samples_leaf  \\\n",
       "rank_test_score                                                  \n",
       "1                                                          100   \n",
       "1                                                          100   \n",
       "3                                                          100   \n",
       "4                                                           80   \n",
       "5                                                           80   \n",
       "\n",
       "                param_randomforestclassifier__max_depth  \\\n",
       "rank_test_score                                           \n",
       "1                                                    10   \n",
       "1                                                    10   \n",
       "3                                                    10   \n",
       "4                                                    10   \n",
       "5                                                    10   \n",
       "\n",
       "                param_randomforestclassifier__min_samples_split  \\\n",
       "rank_test_score                                                   \n",
       "1                                                             8   \n",
       "1                                                             4   \n",
       "3                                                             6   \n",
       "4                                                             2   \n",
       "5                                                             6   \n",
       "\n",
       "                 mean_fit_time  std_test_score  \n",
       "rank_test_score                                 \n",
       "1                     1.559090        0.013898  \n",
       "1                     1.528477        0.013898  \n",
       "3                     1.728340        0.014194  \n",
       "4                     1.718100        0.014799  \n",
       "5                     1.479119        0.012059  "
      ]
     },
     "execution_count": 41,
     "metadata": {},
     "output_type": "execute_result"
    }
   ],
   "source": [
    "random_grid_rf = [{'randomforestclassifier__criterion': ['gini', 'entropy'],\n",
    "                'randomforestclassifier__min_samples_leaf': [5, 10, 20, 30, 50, 80, 100],\n",
    "                'randomforestclassifier__max_depth': [3, 4, 6, 8, 10],\n",
    "                'randomforestclassifier__min_samples_split': [2, 4, 6, 8, 10]}]\n",
    "\n",
    "grid_search_rf = RandomizedSearchCV(\n",
    "    rf_pipe, random_grid_rf, cv = 3,n_jobs = -1,scoring=score,return_train_score=True, n_iter = 50, random_state=123\n",
    "\n",
    ")\n",
    "grid_search_rf.fit(X_train, y_train)\n",
    "\n",
    "relevant = ['mean_test_score',\n",
    "             'param_randomforestclassifier__criterion',\n",
    "             'param_randomforestclassifier__min_samples_leaf',\n",
    "             'param_randomforestclassifier__max_depth',\n",
    "             'param_randomforestclassifier__min_samples_split',\n",
    "             'mean_fit_time',\n",
    "             'rank_test_score',\n",
    "             'std_test_score',]\n",
    "pd.DataFrame(grid_search_rf.cv_results_)[relevant].set_index(\"rank_test_score\").sort_index().head()"
   ]
  },
  {
   "cell_type": "markdown",
   "metadata": {},
   "source": [
    "From random search cross-validation, we can see the Random Forest with criterion = 'gini', min_sample_leaf = 100, max_depth = 10, and min_samples_split = 8 get the highest validation recall score of 0.626703 which is significantly higher than the default one 0.350."
   ]
  },
  {
   "cell_type": "code",
   "execution_count": 42,
   "metadata": {
    "tags": []
   },
   "outputs": [],
   "source": [
    "best_rf_pipe = make_pipeline(preprocessor, \n",
    "                             RandomForestClassifier(\n",
    "                                 criterion='gini', \n",
    "                                 class_weight='balanced',\n",
    "                                 min_samples_leaf=100,\n",
    "                                 max_depth=10,\n",
    "                                 min_samples_split=8,\n",
    "                                 random_state=123, \n",
    "                                 n_jobs=-1)\n",
    "                            )"
   ]
  },
  {
   "cell_type": "markdown",
   "metadata": {
    "tags": []
   },
   "source": [
    "#### XGBoost"
   ]
  },
  {
   "cell_type": "code",
   "execution_count": 43,
   "metadata": {
    "tags": []
   },
   "outputs": [
    {
     "name": "stderr",
     "output_type": "stream",
     "text": [
      "/Users/haojiang/miniconda3/envs/cpsc330/lib/python3.10/site-packages/sklearn/model_selection/_search.py:306: UserWarning: The total space of parameters 9 is smaller than n_iter=10. Running 9 iterations. For exhaustive searches, use GridSearchCV.\n",
      "  warnings.warn(\n"
     ]
    },
    {
     "data": {
      "text/html": [
       "<div>\n",
       "<style scoped>\n",
       "    .dataframe tbody tr th:only-of-type {\n",
       "        vertical-align: middle;\n",
       "    }\n",
       "\n",
       "    .dataframe tbody tr th {\n",
       "        vertical-align: top;\n",
       "    }\n",
       "\n",
       "    .dataframe thead th {\n",
       "        text-align: right;\n",
       "    }\n",
       "</style>\n",
       "<table border=\"1\" class=\"dataframe\">\n",
       "  <thead>\n",
       "    <tr style=\"text-align: right;\">\n",
       "      <th></th>\n",
       "      <th>mean_test_score</th>\n",
       "      <th>param_xgbclassifier__n_estimators</th>\n",
       "      <th>param_xgbclassifier__learning_rate</th>\n",
       "      <th>mean_fit_time</th>\n",
       "      <th>std_test_score</th>\n",
       "    </tr>\n",
       "    <tr>\n",
       "      <th>rank_test_score</th>\n",
       "      <th></th>\n",
       "      <th></th>\n",
       "      <th></th>\n",
       "      <th></th>\n",
       "      <th></th>\n",
       "    </tr>\n",
       "  </thead>\n",
       "  <tbody>\n",
       "    <tr>\n",
       "      <th>1</th>\n",
       "      <td>0.366682</td>\n",
       "      <td>200</td>\n",
       "      <td>0.01</td>\n",
       "      <td>5.331833</td>\n",
       "      <td>0.005035</td>\n",
       "    </tr>\n",
       "    <tr>\n",
       "      <th>2</th>\n",
       "      <td>0.366468</td>\n",
       "      <td>500</td>\n",
       "      <td>0.01</td>\n",
       "      <td>13.218911</td>\n",
       "      <td>0.006758</td>\n",
       "    </tr>\n",
       "    <tr>\n",
       "      <th>3</th>\n",
       "      <td>0.365616</td>\n",
       "      <td>100</td>\n",
       "      <td>0.1</td>\n",
       "      <td>2.657460</td>\n",
       "      <td>0.005692</td>\n",
       "    </tr>\n",
       "    <tr>\n",
       "      <th>4</th>\n",
       "      <td>0.365403</td>\n",
       "      <td>100</td>\n",
       "      <td>0.05</td>\n",
       "      <td>2.698416</td>\n",
       "      <td>0.008279</td>\n",
       "    </tr>\n",
       "    <tr>\n",
       "      <th>5</th>\n",
       "      <td>0.365402</td>\n",
       "      <td>500</td>\n",
       "      <td>0.1</td>\n",
       "      <td>10.918512</td>\n",
       "      <td>0.003289</td>\n",
       "    </tr>\n",
       "  </tbody>\n",
       "</table>\n",
       "</div>"
      ],
      "text/plain": [
       "                 mean_test_score param_xgbclassifier__n_estimators  \\\n",
       "rank_test_score                                                      \n",
       "1                       0.366682                               200   \n",
       "2                       0.366468                               500   \n",
       "3                       0.365616                               100   \n",
       "4                       0.365403                               100   \n",
       "5                       0.365402                               500   \n",
       "\n",
       "                param_xgbclassifier__learning_rate  mean_fit_time  \\\n",
       "rank_test_score                                                     \n",
       "1                                             0.01       5.331833   \n",
       "2                                             0.01      13.218911   \n",
       "3                                              0.1       2.657460   \n",
       "4                                             0.05       2.698416   \n",
       "5                                              0.1      10.918512   \n",
       "\n",
       "                 std_test_score  \n",
       "rank_test_score                  \n",
       "1                      0.005035  \n",
       "2                      0.006758  \n",
       "3                      0.005692  \n",
       "4                      0.008279  \n",
       "5                      0.003289  "
      ]
     },
     "execution_count": 43,
     "metadata": {},
     "output_type": "execute_result"
    }
   ],
   "source": [
    "random_grid_xgb = {\n",
    "    'xgbclassifier__n_estimators': [100, 200, 500],\n",
    "    'xgbclassifier__learning_rate': [0.01, 0.05, 0.1]\n",
    "}\n",
    "\n",
    "random_search_xgb = RandomizedSearchCV(\n",
    "    xgb_pipe, random_grid_xgb, cv = 3,n_jobs = -1,scoring=score,return_train_score=True, random_state=123\n",
    ")\n",
    "\n",
    "random_search_xgb.fit(X_train, y_train)\n",
    "\n",
    "relevant = ['mean_test_score',\n",
    "             'param_xgbclassifier__n_estimators',\n",
    "             'param_xgbclassifier__learning_rate',\n",
    "             'mean_fit_time',\n",
    "             'rank_test_score',\n",
    "             'std_test_score',]\n",
    "pd.DataFrame(random_search_xgb.cv_results_)[relevant].set_index(\"rank_test_score\").sort_index().head()"
   ]
  },
  {
   "cell_type": "markdown",
   "metadata": {},
   "source": [
    "From random search cross-validation, we can see the XGBoost with n_estimators = 100 and learning_rate = 0.1 get the highest validation recall score of 0.368817 which is slightly lower than the default one of 0.369 but it might be due to the decimal difference and the limitation of the possible values for searching. Thus, we will choose the default one since it's simpler."
   ]
  },
  {
   "cell_type": "code",
   "execution_count": 44,
   "metadata": {
    "tags": []
   },
   "outputs": [],
   "source": [
    "best_xgb_pipe = xgb_pipe"
   ]
  },
  {
   "cell_type": "markdown",
   "metadata": {
    "tags": []
   },
   "source": [
    "#### CatBoost"
   ]
  },
  {
   "cell_type": "code",
   "execution_count": 45,
   "metadata": {
    "tags": []
   },
   "outputs": [
    {
     "name": "stderr",
     "output_type": "stream",
     "text": [
      "/Users/haojiang/miniconda3/envs/cpsc330/lib/python3.10/site-packages/sklearn/model_selection/_search.py:306: UserWarning: The total space of parameters 36 is smaller than n_iter=50. Running 36 iterations. For exhaustive searches, use GridSearchCV.\n",
      "  warnings.warn(\n"
     ]
    },
    {
     "data": {
      "text/html": [
       "<div>\n",
       "<style scoped>\n",
       "    .dataframe tbody tr th:only-of-type {\n",
       "        vertical-align: middle;\n",
       "    }\n",
       "\n",
       "    .dataframe tbody tr th {\n",
       "        vertical-align: top;\n",
       "    }\n",
       "\n",
       "    .dataframe thead th {\n",
       "        text-align: right;\n",
       "    }\n",
       "</style>\n",
       "<table border=\"1\" class=\"dataframe\">\n",
       "  <thead>\n",
       "    <tr style=\"text-align: right;\">\n",
       "      <th></th>\n",
       "      <th>mean_test_score</th>\n",
       "      <th>param_catboostclassifier__iterations</th>\n",
       "      <th>param_catboostclassifier__learning_rate</th>\n",
       "      <th>param_catboostclassifier__depth</th>\n",
       "      <th>mean_fit_time</th>\n",
       "      <th>std_test_score</th>\n",
       "    </tr>\n",
       "    <tr>\n",
       "      <th>rank_test_score</th>\n",
       "      <th></th>\n",
       "      <th></th>\n",
       "      <th></th>\n",
       "      <th></th>\n",
       "      <th></th>\n",
       "      <th></th>\n",
       "    </tr>\n",
       "  </thead>\n",
       "  <tbody>\n",
       "    <tr>\n",
       "      <th>1</th>\n",
       "      <td>0.592574</td>\n",
       "      <td>200</td>\n",
       "      <td>0.1</td>\n",
       "      <td>4</td>\n",
       "      <td>1.279490</td>\n",
       "      <td>0.012131</td>\n",
       "    </tr>\n",
       "    <tr>\n",
       "      <th>2</th>\n",
       "      <td>0.586389</td>\n",
       "      <td>500</td>\n",
       "      <td>0.05</td>\n",
       "      <td>4</td>\n",
       "      <td>3.418709</td>\n",
       "      <td>0.007766</td>\n",
       "    </tr>\n",
       "    <tr>\n",
       "      <th>3</th>\n",
       "      <td>0.586175</td>\n",
       "      <td>100</td>\n",
       "      <td>0.1</td>\n",
       "      <td>6</td>\n",
       "      <td>0.999220</td>\n",
       "      <td>0.010821</td>\n",
       "    </tr>\n",
       "    <tr>\n",
       "      <th>4</th>\n",
       "      <td>0.585749</td>\n",
       "      <td>500</td>\n",
       "      <td>0.1</td>\n",
       "      <td>4</td>\n",
       "      <td>3.721131</td>\n",
       "      <td>0.008284</td>\n",
       "    </tr>\n",
       "    <tr>\n",
       "      <th>5</th>\n",
       "      <td>0.585747</td>\n",
       "      <td>100</td>\n",
       "      <td>0.1</td>\n",
       "      <td>4</td>\n",
       "      <td>0.756996</td>\n",
       "      <td>0.014103</td>\n",
       "    </tr>\n",
       "  </tbody>\n",
       "</table>\n",
       "</div>"
      ],
      "text/plain": [
       "                 mean_test_score param_catboostclassifier__iterations  \\\n",
       "rank_test_score                                                         \n",
       "1                       0.592574                                  200   \n",
       "2                       0.586389                                  500   \n",
       "3                       0.586175                                  100   \n",
       "4                       0.585749                                  500   \n",
       "5                       0.585747                                  100   \n",
       "\n",
       "                param_catboostclassifier__learning_rate  \\\n",
       "rank_test_score                                           \n",
       "1                                                   0.1   \n",
       "2                                                  0.05   \n",
       "3                                                   0.1   \n",
       "4                                                   0.1   \n",
       "5                                                   0.1   \n",
       "\n",
       "                param_catboostclassifier__depth  mean_fit_time  std_test_score  \n",
       "rank_test_score                                                                 \n",
       "1                                             4       1.279490        0.012131  \n",
       "2                                             4       3.418709        0.007766  \n",
       "3                                             6       0.999220        0.010821  \n",
       "4                                             4       3.721131        0.008284  \n",
       "5                                             4       0.756996        0.014103  "
      ]
     },
     "execution_count": 45,
     "metadata": {},
     "output_type": "execute_result"
    }
   ],
   "source": [
    "random_grid_catboost = {\n",
    "    'catboostclassifier__iterations': [100, 200, 500],\n",
    "    'catboostclassifier__learning_rate': [0.01, 0.05, 0.1],\n",
    "    'catboostclassifier__depth': [4, 6, 8, 10]\n",
    "}\n",
    "\n",
    "grid_search_catboost = RandomizedSearchCV(\n",
    "    catboost_pipe, random_grid_catboost, cv = 3, n_jobs=-1, scoring=score, return_train_score=True, n_iter = 50, random_state=123\n",
    ")\n",
    "\n",
    "grid_search_catboost.fit(X_train, y_train)\n",
    "\n",
    "relevant = ['mean_test_score',\n",
    "             'param_catboostclassifier__iterations',\n",
    "             'param_catboostclassifier__learning_rate',\n",
    "             'param_catboostclassifier__depth',\n",
    "             'mean_fit_time',\n",
    "             'rank_test_score',\n",
    "             'std_test_score']\n",
    "\n",
    "pd.DataFrame(grid_search_catboost.cv_results_)[relevant].set_index(\"rank_test_score\").sort_index().head()"
   ]
  },
  {
   "cell_type": "markdown",
   "metadata": {},
   "source": [
    "From random search cross-validation, we can see the CatBoost with n_estimators = 200, learning_rate = 0.1, and depth = 4 get the highest validation recall score of 0.590868 which is slightly higher than the default one of 0.575."
   ]
  },
  {
   "cell_type": "code",
   "execution_count": 46,
   "metadata": {
    "tags": []
   },
   "outputs": [],
   "source": [
    "best_catboost_pipe = make_pipeline(preprocessor, CatBoostClassifier(class_weights=[1,3],iterations = 200, learning_rate = 0.1, depth = 4,verbose=0, random_state=123))"
   ]
  },
  {
   "cell_type": "markdown",
   "metadata": {},
   "source": [
    "#### Summary"
   ]
  },
  {
   "cell_type": "code",
   "execution_count": 47,
   "metadata": {
    "tags": []
   },
   "outputs": [
    {
     "data": {
      "text/html": [
       "<div>\n",
       "<style scoped>\n",
       "    .dataframe tbody tr th:only-of-type {\n",
       "        vertical-align: middle;\n",
       "    }\n",
       "\n",
       "    .dataframe tbody tr th {\n",
       "        vertical-align: top;\n",
       "    }\n",
       "\n",
       "    .dataframe thead th {\n",
       "        text-align: right;\n",
       "    }\n",
       "</style>\n",
       "<table border=\"1\" class=\"dataframe\">\n",
       "  <thead>\n",
       "    <tr style=\"text-align: right;\">\n",
       "      <th></th>\n",
       "      <th>fit_time</th>\n",
       "      <th>score_time</th>\n",
       "      <th>test_precision</th>\n",
       "      <th>train_precision</th>\n",
       "      <th>test_recall</th>\n",
       "      <th>train_recall</th>\n",
       "      <th>test_f1</th>\n",
       "      <th>train_f1</th>\n",
       "    </tr>\n",
       "  </thead>\n",
       "  <tbody>\n",
       "    <tr>\n",
       "      <th>Dummy</th>\n",
       "      <td>0.012 (+/- 0.002)</td>\n",
       "      <td>0.006 (+/- 0.001)</td>\n",
       "      <td>0.000 (+/- 0.000)</td>\n",
       "      <td>0.000 (+/- 0.000)</td>\n",
       "      <td>0.000 (+/- 0.000)</td>\n",
       "      <td>0.000 (+/- 0.000)</td>\n",
       "      <td>0.000 (+/- 0.000)</td>\n",
       "      <td>0.000 (+/- 0.000)</td>\n",
       "    </tr>\n",
       "    <tr>\n",
       "      <th>Logistic Regression</th>\n",
       "      <td>0.066 (+/- 0.017)</td>\n",
       "      <td>0.007 (+/- 0.001)</td>\n",
       "      <td>0.378 (+/- 0.007)</td>\n",
       "      <td>0.381 (+/- 0.003)</td>\n",
       "      <td>0.648 (+/- 0.020)</td>\n",
       "      <td>0.649 (+/- 0.005)</td>\n",
       "      <td>0.478 (+/- 0.008)</td>\n",
       "      <td>0.480 (+/- 0.003)</td>\n",
       "    </tr>\n",
       "    <tr>\n",
       "      <th>SVC rbf</th>\n",
       "      <td>10.261 (+/- 0.105)</td>\n",
       "      <td>2.279 (+/- 0.022)</td>\n",
       "      <td>0.501 (+/- 0.015)</td>\n",
       "      <td>0.519 (+/- 0.004)</td>\n",
       "      <td>0.580 (+/- 0.010)</td>\n",
       "      <td>0.601 (+/- 0.004)</td>\n",
       "      <td>0.538 (+/- 0.010)</td>\n",
       "      <td>0.557 (+/- 0.003)</td>\n",
       "    </tr>\n",
       "    <tr>\n",
       "      <th>Random Forest</th>\n",
       "      <td>0.411 (+/- 0.017)</td>\n",
       "      <td>0.039 (+/- 0.003)</td>\n",
       "      <td>0.480 (+/- 0.018)</td>\n",
       "      <td>0.496 (+/- 0.005)</td>\n",
       "      <td>0.629 (+/- 0.016)</td>\n",
       "      <td>0.648 (+/- 0.003)</td>\n",
       "      <td>0.544 (+/- 0.017)</td>\n",
       "      <td>0.562 (+/- 0.003)</td>\n",
       "    </tr>\n",
       "    <tr>\n",
       "      <th>XGBoost</th>\n",
       "      <td>0.727 (+/- 0.009)</td>\n",
       "      <td>0.010 (+/- 0.002)</td>\n",
       "      <td>0.637 (+/- 0.020)</td>\n",
       "      <td>0.909 (+/- 0.011)</td>\n",
       "      <td>0.366 (+/- 0.012)</td>\n",
       "      <td>0.617 (+/- 0.013)</td>\n",
       "      <td>0.464 (+/- 0.011)</td>\n",
       "      <td>0.735 (+/- 0.012)</td>\n",
       "    </tr>\n",
       "    <tr>\n",
       "      <th>CatBoost</th>\n",
       "      <td>0.654 (+/- 0.014)</td>\n",
       "      <td>0.025 (+/- 0.001)</td>\n",
       "      <td>0.518 (+/- 0.024)</td>\n",
       "      <td>0.545 (+/- 0.005)</td>\n",
       "      <td>0.590 (+/- 0.010)</td>\n",
       "      <td>0.627 (+/- 0.002)</td>\n",
       "      <td>0.552 (+/- 0.018)</td>\n",
       "      <td>0.583 (+/- 0.002)</td>\n",
       "    </tr>\n",
       "  </tbody>\n",
       "</table>\n",
       "</div>"
      ],
      "text/plain": [
       "                               fit_time         score_time     test_precision  \\\n",
       "Dummy                 0.012 (+/- 0.002)  0.006 (+/- 0.001)  0.000 (+/- 0.000)   \n",
       "Logistic Regression   0.066 (+/- 0.017)  0.007 (+/- 0.001)  0.378 (+/- 0.007)   \n",
       "SVC rbf              10.261 (+/- 0.105)  2.279 (+/- 0.022)  0.501 (+/- 0.015)   \n",
       "Random Forest         0.411 (+/- 0.017)  0.039 (+/- 0.003)  0.480 (+/- 0.018)   \n",
       "XGBoost               0.727 (+/- 0.009)  0.010 (+/- 0.002)  0.637 (+/- 0.020)   \n",
       "CatBoost              0.654 (+/- 0.014)  0.025 (+/- 0.001)  0.518 (+/- 0.024)   \n",
       "\n",
       "                       train_precision        test_recall       train_recall  \\\n",
       "Dummy                0.000 (+/- 0.000)  0.000 (+/- 0.000)  0.000 (+/- 0.000)   \n",
       "Logistic Regression  0.381 (+/- 0.003)  0.648 (+/- 0.020)  0.649 (+/- 0.005)   \n",
       "SVC rbf              0.519 (+/- 0.004)  0.580 (+/- 0.010)  0.601 (+/- 0.004)   \n",
       "Random Forest        0.496 (+/- 0.005)  0.629 (+/- 0.016)  0.648 (+/- 0.003)   \n",
       "XGBoost              0.909 (+/- 0.011)  0.366 (+/- 0.012)  0.617 (+/- 0.013)   \n",
       "CatBoost             0.545 (+/- 0.005)  0.590 (+/- 0.010)  0.627 (+/- 0.002)   \n",
       "\n",
       "                               test_f1           train_f1  \n",
       "Dummy                0.000 (+/- 0.000)  0.000 (+/- 0.000)  \n",
       "Logistic Regression  0.478 (+/- 0.008)  0.480 (+/- 0.003)  \n",
       "SVC rbf              0.538 (+/- 0.010)  0.557 (+/- 0.003)  \n",
       "Random Forest        0.544 (+/- 0.017)  0.562 (+/- 0.003)  \n",
       "XGBoost              0.464 (+/- 0.011)  0.735 (+/- 0.012)  \n",
       "CatBoost             0.552 (+/- 0.018)  0.583 (+/- 0.002)  "
      ]
     },
     "execution_count": 47,
     "metadata": {},
     "output_type": "execute_result"
    }
   ],
   "source": [
    "classifiers = {\n",
    "    \"Dummy\": Dummy_pipe,\n",
    "    \"Logistic Regression\": best_lr_pipe,\n",
    "    \"SVC rbf\": best_svc_pipe,\n",
    "    \"Random Forest\": best_rf_pipe,\n",
    "    \"XGBoost\": best_xgb_pipe,\n",
    "    \"CatBoost\": best_catboost_pipe,\n",
    "}\n",
    "new_results = {}\n",
    "warnings.filterwarnings(\"ignore\", category=UndefinedMetricWarning)\n",
    "\n",
    "for name, model in classifiers.items():\n",
    "    new_results[name] = mean_std_cross_val_scores(model, X_train, y_train,\n",
    "                                       scoring = scoring_metrics, return_train_score=True)\n",
    "    \n",
    "warnings.filterwarnings(\"default\", category=UndefinedMetricWarning)\n",
    "pd.DataFrame(new_results).T"
   ]
  },
  {
   "cell_type": "code",
   "execution_count": 48,
   "metadata": {
    "tags": []
   },
   "outputs": [
    {
     "data": {
      "text/html": [
       "<div>\n",
       "<style scoped>\n",
       "    .dataframe tbody tr th:only-of-type {\n",
       "        vertical-align: middle;\n",
       "    }\n",
       "\n",
       "    .dataframe tbody tr th {\n",
       "        vertical-align: top;\n",
       "    }\n",
       "\n",
       "    .dataframe thead th {\n",
       "        text-align: right;\n",
       "    }\n",
       "</style>\n",
       "<table border=\"1\" class=\"dataframe\">\n",
       "  <thead>\n",
       "    <tr style=\"text-align: right;\">\n",
       "      <th></th>\n",
       "      <th>fit_time</th>\n",
       "      <th>score_time</th>\n",
       "      <th>test_precision</th>\n",
       "      <th>train_precision</th>\n",
       "      <th>test_recall</th>\n",
       "      <th>train_recall</th>\n",
       "      <th>test_f1</th>\n",
       "      <th>train_f1</th>\n",
       "    </tr>\n",
       "  </thead>\n",
       "  <tbody>\n",
       "    <tr>\n",
       "      <th>Dummy</th>\n",
       "      <td>0.010 (+/- 0.001)</td>\n",
       "      <td>0.005 (+/- 0.000)</td>\n",
       "      <td>0.000 (+/- 0.000)</td>\n",
       "      <td>0.000 (+/- 0.000)</td>\n",
       "      <td>0.000 (+/- 0.000)</td>\n",
       "      <td>0.000 (+/- 0.000)</td>\n",
       "      <td>0.000 (+/- 0.000)</td>\n",
       "      <td>0.000 (+/- 0.000)</td>\n",
       "    </tr>\n",
       "    <tr>\n",
       "      <th>Logistic Regression</th>\n",
       "      <td>0.061 (+/- 0.017)</td>\n",
       "      <td>0.006 (+/- 0.000)</td>\n",
       "      <td>0.378 (+/- 0.007)</td>\n",
       "      <td>0.381 (+/- 0.003)</td>\n",
       "      <td>0.648 (+/- 0.020)</td>\n",
       "      <td>0.649 (+/- 0.005)</td>\n",
       "      <td>0.478 (+/- 0.008)</td>\n",
       "      <td>0.480 (+/- 0.003)</td>\n",
       "    </tr>\n",
       "    <tr>\n",
       "      <th>SVC rbf</th>\n",
       "      <td>9.519 (+/- 0.088)</td>\n",
       "      <td>2.297 (+/- 0.017)</td>\n",
       "      <td>0.509 (+/- 0.021)</td>\n",
       "      <td>0.528 (+/- 0.003)</td>\n",
       "      <td>0.580 (+/- 0.009)</td>\n",
       "      <td>0.607 (+/- 0.002)</td>\n",
       "      <td>0.542 (+/- 0.016)</td>\n",
       "      <td>0.565 (+/- 0.002)</td>\n",
       "    </tr>\n",
       "    <tr>\n",
       "      <th>Random Forest</th>\n",
       "      <td>0.733 (+/- 0.310)</td>\n",
       "      <td>0.032 (+/- 0.003)</td>\n",
       "      <td>0.657 (+/- 0.025)</td>\n",
       "      <td>0.997 (+/- 0.000)</td>\n",
       "      <td>0.347 (+/- 0.009)</td>\n",
       "      <td>1.000 (+/- 0.000)</td>\n",
       "      <td>0.454 (+/- 0.010)</td>\n",
       "      <td>0.999 (+/- 0.000)</td>\n",
       "    </tr>\n",
       "    <tr>\n",
       "      <th>XGBoost</th>\n",
       "      <td>0.756 (+/- 0.025)</td>\n",
       "      <td>0.008 (+/- 0.000)</td>\n",
       "      <td>0.637 (+/- 0.020)</td>\n",
       "      <td>0.909 (+/- 0.011)</td>\n",
       "      <td>0.366 (+/- 0.012)</td>\n",
       "      <td>0.617 (+/- 0.013)</td>\n",
       "      <td>0.464 (+/- 0.011)</td>\n",
       "      <td>0.735 (+/- 0.012)</td>\n",
       "    </tr>\n",
       "    <tr>\n",
       "      <th>CatBoost</th>\n",
       "      <td>3.724 (+/- 0.048)</td>\n",
       "      <td>0.025 (+/- 0.001)</td>\n",
       "      <td>0.524 (+/- 0.021)</td>\n",
       "      <td>0.640 (+/- 0.003)</td>\n",
       "      <td>0.571 (+/- 0.011)</td>\n",
       "      <td>0.757 (+/- 0.004)</td>\n",
       "      <td>0.546 (+/- 0.016)</td>\n",
       "      <td>0.693 (+/- 0.002)</td>\n",
       "    </tr>\n",
       "  </tbody>\n",
       "</table>\n",
       "</div>"
      ],
      "text/plain": [
       "                              fit_time         score_time     test_precision  \\\n",
       "Dummy                0.010 (+/- 0.001)  0.005 (+/- 0.000)  0.000 (+/- 0.000)   \n",
       "Logistic Regression  0.061 (+/- 0.017)  0.006 (+/- 0.000)  0.378 (+/- 0.007)   \n",
       "SVC rbf              9.519 (+/- 0.088)  2.297 (+/- 0.017)  0.509 (+/- 0.021)   \n",
       "Random Forest        0.733 (+/- 0.310)  0.032 (+/- 0.003)  0.657 (+/- 0.025)   \n",
       "XGBoost              0.756 (+/- 0.025)  0.008 (+/- 0.000)  0.637 (+/- 0.020)   \n",
       "CatBoost             3.724 (+/- 0.048)  0.025 (+/- 0.001)  0.524 (+/- 0.021)   \n",
       "\n",
       "                       train_precision        test_recall       train_recall  \\\n",
       "Dummy                0.000 (+/- 0.000)  0.000 (+/- 0.000)  0.000 (+/- 0.000)   \n",
       "Logistic Regression  0.381 (+/- 0.003)  0.648 (+/- 0.020)  0.649 (+/- 0.005)   \n",
       "SVC rbf              0.528 (+/- 0.003)  0.580 (+/- 0.009)  0.607 (+/- 0.002)   \n",
       "Random Forest        0.997 (+/- 0.000)  0.347 (+/- 0.009)  1.000 (+/- 0.000)   \n",
       "XGBoost              0.909 (+/- 0.011)  0.366 (+/- 0.012)  0.617 (+/- 0.013)   \n",
       "CatBoost             0.640 (+/- 0.003)  0.571 (+/- 0.011)  0.757 (+/- 0.004)   \n",
       "\n",
       "                               test_f1           train_f1  \n",
       "Dummy                0.000 (+/- 0.000)  0.000 (+/- 0.000)  \n",
       "Logistic Regression  0.478 (+/- 0.008)  0.480 (+/- 0.003)  \n",
       "SVC rbf              0.542 (+/- 0.016)  0.565 (+/- 0.002)  \n",
       "Random Forest        0.454 (+/- 0.010)  0.999 (+/- 0.000)  \n",
       "XGBoost              0.464 (+/- 0.011)  0.735 (+/- 0.012)  \n",
       "CatBoost             0.546 (+/- 0.016)  0.693 (+/- 0.002)  "
      ]
     },
     "execution_count": 48,
     "metadata": {},
     "output_type": "execute_result"
    }
   ],
   "source": [
    "pd.DataFrame(results).T"
   ]
  },
  {
   "cell_type": "markdown",
   "metadata": {},
   "source": [
    "In summary, the Random Forest has the most significant improvement after the hyperparameter optimization. It has solved the overfitting issue and got the best performance. Even though it just has the second-highest validation recall score, the f1 score is also the second highest and the precision is not too low. Considering both the Type II and Type I errors, the Random Forest with the optimized hyperparameters seems the best choice."
   ]
  },
  {
   "cell_type": "markdown",
   "metadata": {},
   "source": [
    "<!-- END QUESTION -->\n",
    "\n",
    "<br><br>"
   ]
  },
  {
   "cell_type": "markdown",
   "metadata": {},
   "source": [
    "### Interpretation and Feature Importances"
   ]
  },
  {
   "cell_type": "code",
   "execution_count": 49,
   "metadata": {
    "tags": []
   },
   "outputs": [],
   "source": [
    "import shap"
   ]
  },
  {
   "cell_type": "code",
   "execution_count": 50,
   "metadata": {
    "tags": []
   },
   "outputs": [
    {
     "data": {
      "text/html": [
       "<div>\n",
       "<style scoped>\n",
       "    .dataframe tbody tr th:only-of-type {\n",
       "        vertical-align: middle;\n",
       "    }\n",
       "\n",
       "    .dataframe tbody tr th {\n",
       "        vertical-align: top;\n",
       "    }\n",
       "\n",
       "    .dataframe thead th {\n",
       "        text-align: right;\n",
       "    }\n",
       "</style>\n",
       "<table border=\"1\" class=\"dataframe\">\n",
       "  <thead>\n",
       "    <tr style=\"text-align: right;\">\n",
       "      <th></th>\n",
       "      <th>PAY_5</th>\n",
       "      <th>BILL_AMT_7</th>\n",
       "      <th>BILL_AMT_4</th>\n",
       "      <th>PAY_AMT_5</th>\n",
       "      <th>PAY_7</th>\n",
       "      <th>BILL_AMT_8</th>\n",
       "      <th>BILL_AMT_5</th>\n",
       "      <th>BILL_AMT_6</th>\n",
       "      <th>PAY_AMT_4</th>\n",
       "      <th>PAY_8</th>\n",
       "      <th>...</th>\n",
       "      <th>PAY_AMT_8</th>\n",
       "      <th>PAY_AMT_9</th>\n",
       "      <th>SEX</th>\n",
       "      <th>MARRIAGE_1</th>\n",
       "      <th>MARRIAGE_2</th>\n",
       "      <th>MARRIAGE_3</th>\n",
       "      <th>EDUCATION_1</th>\n",
       "      <th>EDUCATION_2</th>\n",
       "      <th>EDUCATION_3</th>\n",
       "      <th>EDUCATION_4</th>\n",
       "    </tr>\n",
       "  </thead>\n",
       "  <tbody>\n",
       "    <tr>\n",
       "      <th>16395</th>\n",
       "      <td>0.232531</td>\n",
       "      <td>-0.265310</td>\n",
       "      <td>-0.587035</td>\n",
       "      <td>-0.312050</td>\n",
       "      <td>0.143483</td>\n",
       "      <td>-0.293394</td>\n",
       "      <td>-0.494781</td>\n",
       "      <td>-0.371930</td>\n",
       "      <td>0.097991</td>\n",
       "      <td>0.114774</td>\n",
       "      <td>...</td>\n",
       "      <td>-0.040229</td>\n",
       "      <td>-0.039546</td>\n",
       "      <td>1.0</td>\n",
       "      <td>0.0</td>\n",
       "      <td>1.0</td>\n",
       "      <td>0.0</td>\n",
       "      <td>1.0</td>\n",
       "      <td>0.0</td>\n",
       "      <td>0.0</td>\n",
       "      <td>0.0</td>\n",
       "    </tr>\n",
       "    <tr>\n",
       "      <th>21448</th>\n",
       "      <td>0.232531</td>\n",
       "      <td>0.585444</td>\n",
       "      <td>1.327534</td>\n",
       "      <td>0.672988</td>\n",
       "      <td>-0.692571</td>\n",
       "      <td>-0.679495</td>\n",
       "      <td>1.805461</td>\n",
       "      <td>1.970295</td>\n",
       "      <td>2.562606</td>\n",
       "      <td>-0.722412</td>\n",
       "      <td>...</td>\n",
       "      <td>3.739796</td>\n",
       "      <td>-0.297166</td>\n",
       "      <td>1.0</td>\n",
       "      <td>0.0</td>\n",
       "      <td>1.0</td>\n",
       "      <td>0.0</td>\n",
       "      <td>1.0</td>\n",
       "      <td>0.0</td>\n",
       "      <td>0.0</td>\n",
       "      <td>0.0</td>\n",
       "    </tr>\n",
       "    <tr>\n",
       "      <th>20034</th>\n",
       "      <td>-1.526210</td>\n",
       "      <td>-0.681234</td>\n",
       "      <td>-0.650908</td>\n",
       "      <td>-0.312050</td>\n",
       "      <td>-1.528626</td>\n",
       "      <td>-0.688319</td>\n",
       "      <td>-0.661045</td>\n",
       "      <td>-0.670935</td>\n",
       "      <td>-0.289117</td>\n",
       "      <td>-1.559598</td>\n",
       "      <td>...</td>\n",
       "      <td>-0.270403</td>\n",
       "      <td>-0.333097</td>\n",
       "      <td>1.0</td>\n",
       "      <td>1.0</td>\n",
       "      <td>0.0</td>\n",
       "      <td>0.0</td>\n",
       "      <td>0.0</td>\n",
       "      <td>0.0</td>\n",
       "      <td>1.0</td>\n",
       "      <td>0.0</td>\n",
       "    </tr>\n",
       "    <tr>\n",
       "      <th>25755</th>\n",
       "      <td>0.232531</td>\n",
       "      <td>0.835581</td>\n",
       "      <td>0.144527</td>\n",
       "      <td>-0.180384</td>\n",
       "      <td>0.143483</td>\n",
       "      <td>0.752583</td>\n",
       "      <td>0.501203</td>\n",
       "      <td>0.918719</td>\n",
       "      <td>-0.195169</td>\n",
       "      <td>0.114774</td>\n",
       "      <td>...</td>\n",
       "      <td>-0.018028</td>\n",
       "      <td>-0.115517</td>\n",
       "      <td>1.0</td>\n",
       "      <td>1.0</td>\n",
       "      <td>0.0</td>\n",
       "      <td>0.0</td>\n",
       "      <td>0.0</td>\n",
       "      <td>1.0</td>\n",
       "      <td>0.0</td>\n",
       "      <td>0.0</td>\n",
       "    </tr>\n",
       "    <tr>\n",
       "      <th>1438</th>\n",
       "      <td>0.232531</td>\n",
       "      <td>-0.287429</td>\n",
       "      <td>-0.191104</td>\n",
       "      <td>-0.246381</td>\n",
       "      <td>0.143483</td>\n",
       "      <td>-0.031399</td>\n",
       "      <td>-0.204599</td>\n",
       "      <td>-0.245237</td>\n",
       "      <td>-0.206319</td>\n",
       "      <td>1.789147</td>\n",
       "      <td>...</td>\n",
       "      <td>-0.206185</td>\n",
       "      <td>-0.333097</td>\n",
       "      <td>0.0</td>\n",
       "      <td>0.0</td>\n",
       "      <td>1.0</td>\n",
       "      <td>0.0</td>\n",
       "      <td>0.0</td>\n",
       "      <td>1.0</td>\n",
       "      <td>0.0</td>\n",
       "      <td>0.0</td>\n",
       "    </tr>\n",
       "    <tr>\n",
       "      <th>...</th>\n",
       "      <td>...</td>\n",
       "      <td>...</td>\n",
       "      <td>...</td>\n",
       "      <td>...</td>\n",
       "      <td>...</td>\n",
       "      <td>...</td>\n",
       "      <td>...</td>\n",
       "      <td>...</td>\n",
       "      <td>...</td>\n",
       "      <td>...</td>\n",
       "      <td>...</td>\n",
       "      <td>...</td>\n",
       "      <td>...</td>\n",
       "      <td>...</td>\n",
       "      <td>...</td>\n",
       "      <td>...</td>\n",
       "      <td>...</td>\n",
       "      <td>...</td>\n",
       "      <td>...</td>\n",
       "      <td>...</td>\n",
       "      <td>...</td>\n",
       "    </tr>\n",
       "    <tr>\n",
       "      <th>28636</th>\n",
       "      <td>0.232531</td>\n",
       "      <td>-0.488648</td>\n",
       "      <td>-0.389539</td>\n",
       "      <td>-0.312050</td>\n",
       "      <td>0.143483</td>\n",
       "      <td>-0.486648</td>\n",
       "      <td>-0.400085</td>\n",
       "      <td>-0.450259</td>\n",
       "      <td>-0.123521</td>\n",
       "      <td>0.114774</td>\n",
       "      <td>...</td>\n",
       "      <td>-0.210772</td>\n",
       "      <td>-0.262410</td>\n",
       "      <td>1.0</td>\n",
       "      <td>1.0</td>\n",
       "      <td>0.0</td>\n",
       "      <td>0.0</td>\n",
       "      <td>0.0</td>\n",
       "      <td>1.0</td>\n",
       "      <td>0.0</td>\n",
       "      <td>0.0</td>\n",
       "    </tr>\n",
       "    <tr>\n",
       "      <th>17730</th>\n",
       "      <td>0.232531</td>\n",
       "      <td>-0.680974</td>\n",
       "      <td>-0.534120</td>\n",
       "      <td>0.143760</td>\n",
       "      <td>-1.528626</td>\n",
       "      <td>-0.688067</td>\n",
       "      <td>-0.618584</td>\n",
       "      <td>-0.630868</td>\n",
       "      <td>-0.289117</td>\n",
       "      <td>-1.559598</td>\n",
       "      <td>...</td>\n",
       "      <td>-0.270403</td>\n",
       "      <td>-0.333097</td>\n",
       "      <td>1.0</td>\n",
       "      <td>1.0</td>\n",
       "      <td>0.0</td>\n",
       "      <td>0.0</td>\n",
       "      <td>1.0</td>\n",
       "      <td>0.0</td>\n",
       "      <td>0.0</td>\n",
       "      <td>0.0</td>\n",
       "    </tr>\n",
       "    <tr>\n",
       "      <th>28030</th>\n",
       "      <td>0.232531</td>\n",
       "      <td>-0.003381</td>\n",
       "      <td>-0.499414</td>\n",
       "      <td>-0.290577</td>\n",
       "      <td>0.143483</td>\n",
       "      <td>-0.010446</td>\n",
       "      <td>-0.516534</td>\n",
       "      <td>-0.062716</td>\n",
       "      <td>-0.270957</td>\n",
       "      <td>0.114774</td>\n",
       "      <td>...</td>\n",
       "      <td>-0.178663</td>\n",
       "      <td>-0.215559</td>\n",
       "      <td>1.0</td>\n",
       "      <td>1.0</td>\n",
       "      <td>0.0</td>\n",
       "      <td>0.0</td>\n",
       "      <td>0.0</td>\n",
       "      <td>0.0</td>\n",
       "      <td>1.0</td>\n",
       "      <td>0.0</td>\n",
       "    </tr>\n",
       "    <tr>\n",
       "      <th>15725</th>\n",
       "      <td>0.232531</td>\n",
       "      <td>-0.254590</td>\n",
       "      <td>-0.372606</td>\n",
       "      <td>-0.290314</td>\n",
       "      <td>0.143483</td>\n",
       "      <td>-0.288478</td>\n",
       "      <td>-0.179691</td>\n",
       "      <td>-0.195023</td>\n",
       "      <td>-0.289117</td>\n",
       "      <td>0.114774</td>\n",
       "      <td>...</td>\n",
       "      <td>-0.178663</td>\n",
       "      <td>-0.215677</td>\n",
       "      <td>1.0</td>\n",
       "      <td>0.0</td>\n",
       "      <td>1.0</td>\n",
       "      <td>0.0</td>\n",
       "      <td>0.0</td>\n",
       "      <td>1.0</td>\n",
       "      <td>0.0</td>\n",
       "      <td>0.0</td>\n",
       "    </tr>\n",
       "    <tr>\n",
       "      <th>19966</th>\n",
       "      <td>-1.526210</td>\n",
       "      <td>-0.637415</td>\n",
       "      <td>-0.612175</td>\n",
       "      <td>-0.161668</td>\n",
       "      <td>-1.528626</td>\n",
       "      <td>-0.326854</td>\n",
       "      <td>-0.599674</td>\n",
       "      <td>-0.605175</td>\n",
       "      <td>0.939548</td>\n",
       "      <td>-1.559598</td>\n",
       "      <td>...</td>\n",
       "      <td>-0.132473</td>\n",
       "      <td>1.181272</td>\n",
       "      <td>1.0</td>\n",
       "      <td>1.0</td>\n",
       "      <td>0.0</td>\n",
       "      <td>0.0</td>\n",
       "      <td>1.0</td>\n",
       "      <td>0.0</td>\n",
       "      <td>0.0</td>\n",
       "      <td>0.0</td>\n",
       "    </tr>\n",
       "  </tbody>\n",
       "</table>\n",
       "<p>21000 rows × 29 columns</p>\n",
       "</div>"
      ],
      "text/plain": [
       "          PAY_5  BILL_AMT_7  BILL_AMT_4  PAY_AMT_5     PAY_7  BILL_AMT_8  \\\n",
       "16395  0.232531   -0.265310   -0.587035  -0.312050  0.143483   -0.293394   \n",
       "21448  0.232531    0.585444    1.327534   0.672988 -0.692571   -0.679495   \n",
       "20034 -1.526210   -0.681234   -0.650908  -0.312050 -1.528626   -0.688319   \n",
       "25755  0.232531    0.835581    0.144527  -0.180384  0.143483    0.752583   \n",
       "1438   0.232531   -0.287429   -0.191104  -0.246381  0.143483   -0.031399   \n",
       "...         ...         ...         ...        ...       ...         ...   \n",
       "28636  0.232531   -0.488648   -0.389539  -0.312050  0.143483   -0.486648   \n",
       "17730  0.232531   -0.680974   -0.534120   0.143760 -1.528626   -0.688067   \n",
       "28030  0.232531   -0.003381   -0.499414  -0.290577  0.143483   -0.010446   \n",
       "15725  0.232531   -0.254590   -0.372606  -0.290314  0.143483   -0.288478   \n",
       "19966 -1.526210   -0.637415   -0.612175  -0.161668 -1.528626   -0.326854   \n",
       "\n",
       "       BILL_AMT_5  BILL_AMT_6  PAY_AMT_4     PAY_8  ...  PAY_AMT_8  PAY_AMT_9  \\\n",
       "16395   -0.494781   -0.371930   0.097991  0.114774  ...  -0.040229  -0.039546   \n",
       "21448    1.805461    1.970295   2.562606 -0.722412  ...   3.739796  -0.297166   \n",
       "20034   -0.661045   -0.670935  -0.289117 -1.559598  ...  -0.270403  -0.333097   \n",
       "25755    0.501203    0.918719  -0.195169  0.114774  ...  -0.018028  -0.115517   \n",
       "1438    -0.204599   -0.245237  -0.206319  1.789147  ...  -0.206185  -0.333097   \n",
       "...           ...         ...        ...       ...  ...        ...        ...   \n",
       "28636   -0.400085   -0.450259  -0.123521  0.114774  ...  -0.210772  -0.262410   \n",
       "17730   -0.618584   -0.630868  -0.289117 -1.559598  ...  -0.270403  -0.333097   \n",
       "28030   -0.516534   -0.062716  -0.270957  0.114774  ...  -0.178663  -0.215559   \n",
       "15725   -0.179691   -0.195023  -0.289117  0.114774  ...  -0.178663  -0.215677   \n",
       "19966   -0.599674   -0.605175   0.939548 -1.559598  ...  -0.132473   1.181272   \n",
       "\n",
       "       SEX  MARRIAGE_1  MARRIAGE_2  MARRIAGE_3  EDUCATION_1  EDUCATION_2  \\\n",
       "16395  1.0         0.0         1.0         0.0          1.0          0.0   \n",
       "21448  1.0         0.0         1.0         0.0          1.0          0.0   \n",
       "20034  1.0         1.0         0.0         0.0          0.0          0.0   \n",
       "25755  1.0         1.0         0.0         0.0          0.0          1.0   \n",
       "1438   0.0         0.0         1.0         0.0          0.0          1.0   \n",
       "...    ...         ...         ...         ...          ...          ...   \n",
       "28636  1.0         1.0         0.0         0.0          0.0          1.0   \n",
       "17730  1.0         1.0         0.0         0.0          1.0          0.0   \n",
       "28030  1.0         1.0         0.0         0.0          0.0          0.0   \n",
       "15725  1.0         0.0         1.0         0.0          0.0          1.0   \n",
       "19966  1.0         1.0         0.0         0.0          1.0          0.0   \n",
       "\n",
       "       EDUCATION_3  EDUCATION_4  \n",
       "16395          0.0          0.0  \n",
       "21448          0.0          0.0  \n",
       "20034          1.0          0.0  \n",
       "25755          0.0          0.0  \n",
       "1438           0.0          0.0  \n",
       "...            ...          ...  \n",
       "28636          0.0          0.0  \n",
       "17730          0.0          0.0  \n",
       "28030          1.0          0.0  \n",
       "15725          0.0          0.0  \n",
       "19966          0.0          0.0  \n",
       "\n",
       "[21000 rows x 29 columns]"
      ]
     },
     "execution_count": 50,
     "metadata": {},
     "output_type": "execute_result"
    }
   ],
   "source": [
    "X_train_enc= pd.DataFrame(X_train_pp, columns=column_names, index=X_train.index)\n",
    "X_train_enc"
   ]
  },
  {
   "cell_type": "code",
   "execution_count": 51,
   "metadata": {
    "tags": []
   },
   "outputs": [
    {
     "data": {
      "image/png": "[encoded data removed]",
      "text/plain": [
       "<Figure size 800x950 with 1 Axes>"
      ]
     },
     "metadata": {},
     "output_type": "display_data"
    }
   ],
   "source": [
    "best_rf_pipe.fit(X_train, y_train)\n",
    "\n",
    "rf_explainer = shap.TreeExplainer(best_rf_pipe.named_steps[\"randomforestclassifier\"])\n",
    "train_rf_shap_values = rf_explainer.shap_values(X_train_enc)\n",
    "shap.summary_plot(train_rf_shap_values, X_train_enc)\n"
   ]
  },
  {
   "cell_type": "code",
   "execution_count": 52,
   "metadata": {
    "tags": []
   },
   "outputs": [
    {
     "name": "stderr",
     "output_type": "stream",
     "text": [
      "No data for colormapping provided via 'c'. Parameters 'vmin', 'vmax' will be ignored\n"
     ]
    },
    {
     "data": {
      "image/png": "[encoded data removed]",
      "text/plain": [
       "<Figure size 800x950 with 2 Axes>"
      ]
     },
     "metadata": {},
     "output_type": "display_data"
    }
   ],
   "source": [
    "shap.summary_plot(train_rf_shap_values[1], X_train_enc)"
   ]
  },
  {
   "cell_type": "code",
   "execution_count": 53,
   "metadata": {
    "tags": []
   },
   "outputs": [
    {
     "data": {
      "text/html": [
       "\n",
       "    <style>\n",
       "    table.eli5-weights tr:hover {\n",
       "        filter: brightness(85%);\n",
       "    }\n",
       "</style>\n",
       "\n",
       "\n",
       "\n",
       "    \n",
       "\n",
       "    \n",
       "\n",
       "    \n",
       "\n",
       "    \n",
       "\n",
       "    \n",
       "\n",
       "    \n",
       "\n",
       "\n",
       "    \n",
       "\n",
       "    \n",
       "\n",
       "    \n",
       "\n",
       "    \n",
       "\n",
       "    \n",
       "\n",
       "    \n",
       "\n",
       "\n",
       "    \n",
       "\n",
       "    \n",
       "\n",
       "    \n",
       "\n",
       "    \n",
       "\n",
       "    \n",
       "        <table class=\"eli5-weights eli5-feature-importances\" style=\"border-collapse: collapse; border: none; margin-top: 0em; table-layout: auto;\">\n",
       "    <thead>\n",
       "    <tr style=\"border: none;\">\n",
       "        <th style=\"padding: 0 1em 0 0.5em; text-align: right; border: none;\">Weight</th>\n",
       "        <th style=\"padding: 0 0.5em 0 0.5em; text-align: left; border: none;\">Feature</th>\n",
       "    </tr>\n",
       "    </thead>\n",
       "    <tbody>\n",
       "    \n",
       "        <tr style=\"background-color: hsl(120, 100.00%, 80.00%); border: none;\">\n",
       "            <td style=\"padding: 0 1em 0 0.5em; text-align: right; border: none;\">\n",
       "                0.2950\n",
       "                \n",
       "                    &plusmn; 0.4071\n",
       "                \n",
       "            </td>\n",
       "            <td style=\"padding: 0 0.5em 0 0.5em; text-align: left; border: none;\">\n",
       "                PAY_9\n",
       "            </td>\n",
       "        </tr>\n",
       "    \n",
       "        <tr style=\"background-color: hsl(120, 100.00%, 88.32%); border: none;\">\n",
       "            <td style=\"padding: 0 1em 0 0.5em; text-align: right; border: none;\">\n",
       "                0.1368\n",
       "                \n",
       "                    &plusmn; 0.3647\n",
       "                \n",
       "            </td>\n",
       "            <td style=\"padding: 0 0.5em 0 0.5em; text-align: left; border: none;\">\n",
       "                PAY_8\n",
       "            </td>\n",
       "        </tr>\n",
       "    \n",
       "        <tr style=\"background-color: hsl(120, 100.00%, 91.47%); border: none;\">\n",
       "            <td style=\"padding: 0 1em 0 0.5em; text-align: right; border: none;\">\n",
       "                0.0873\n",
       "                \n",
       "                    &plusmn; 0.2477\n",
       "                \n",
       "            </td>\n",
       "            <td style=\"padding: 0 0.5em 0 0.5em; text-align: left; border: none;\">\n",
       "                PAY_6\n",
       "            </td>\n",
       "        </tr>\n",
       "    \n",
       "        <tr style=\"background-color: hsl(120, 100.00%, 91.99%); border: none;\">\n",
       "            <td style=\"padding: 0 1em 0 0.5em; text-align: right; border: none;\">\n",
       "                0.0798\n",
       "                \n",
       "                    &plusmn; 0.2525\n",
       "                \n",
       "            </td>\n",
       "            <td style=\"padding: 0 0.5em 0 0.5em; text-align: left; border: none;\">\n",
       "                PAY_7\n",
       "            </td>\n",
       "        </tr>\n",
       "    \n",
       "        <tr style=\"background-color: hsl(120, 100.00%, 94.26%); border: none;\">\n",
       "            <td style=\"padding: 0 1em 0 0.5em; text-align: right; border: none;\">\n",
       "                0.0496\n",
       "                \n",
       "                    &plusmn; 0.1720\n",
       "                \n",
       "            </td>\n",
       "            <td style=\"padding: 0 0.5em 0 0.5em; text-align: left; border: none;\">\n",
       "                PAY_5\n",
       "            </td>\n",
       "        </tr>\n",
       "    \n",
       "        <tr style=\"background-color: hsl(120, 100.00%, 94.92%); border: none;\">\n",
       "            <td style=\"padding: 0 1em 0 0.5em; text-align: right; border: none;\">\n",
       "                0.0417\n",
       "                \n",
       "                    &plusmn; 0.0758\n",
       "                \n",
       "            </td>\n",
       "            <td style=\"padding: 0 0.5em 0 0.5em; text-align: left; border: none;\">\n",
       "                PAY_AMT_9\n",
       "            </td>\n",
       "        </tr>\n",
       "    \n",
       "        <tr style=\"background-color: hsl(120, 100.00%, 95.24%); border: none;\">\n",
       "            <td style=\"padding: 0 1em 0 0.5em; text-align: right; border: none;\">\n",
       "                0.0380\n",
       "                \n",
       "                    &plusmn; 0.0759\n",
       "                \n",
       "            </td>\n",
       "            <td style=\"padding: 0 0.5em 0 0.5em; text-align: left; border: none;\">\n",
       "                PAY_AMT_8\n",
       "            </td>\n",
       "        </tr>\n",
       "    \n",
       "        <tr style=\"background-color: hsl(120, 100.00%, 95.32%); border: none;\">\n",
       "            <td style=\"padding: 0 1em 0 0.5em; text-align: right; border: none;\">\n",
       "                0.0371\n",
       "                \n",
       "                    &plusmn; 0.0608\n",
       "                \n",
       "            </td>\n",
       "            <td style=\"padding: 0 0.5em 0 0.5em; text-align: left; border: none;\">\n",
       "                LIMIT_BAL\n",
       "            </td>\n",
       "        </tr>\n",
       "    \n",
       "        <tr style=\"background-color: hsl(120, 100.00%, 95.91%); border: none;\">\n",
       "            <td style=\"padding: 0 1em 0 0.5em; text-align: right; border: none;\">\n",
       "                0.0305\n",
       "                \n",
       "                    &plusmn; 0.1339\n",
       "                \n",
       "            </td>\n",
       "            <td style=\"padding: 0 0.5em 0 0.5em; text-align: left; border: none;\">\n",
       "                PAY_4\n",
       "            </td>\n",
       "        </tr>\n",
       "    \n",
       "        <tr style=\"background-color: hsl(120, 100.00%, 95.92%); border: none;\">\n",
       "            <td style=\"padding: 0 1em 0 0.5em; text-align: right; border: none;\">\n",
       "                0.0304\n",
       "                \n",
       "                    &plusmn; 0.0591\n",
       "                \n",
       "            </td>\n",
       "            <td style=\"padding: 0 0.5em 0 0.5em; text-align: left; border: none;\">\n",
       "                PAY_AMT_7\n",
       "            </td>\n",
       "        </tr>\n",
       "    \n",
       "        <tr style=\"background-color: hsl(120, 100.00%, 96.48%); border: none;\">\n",
       "            <td style=\"padding: 0 1em 0 0.5em; text-align: right; border: none;\">\n",
       "                0.0247\n",
       "                \n",
       "                    &plusmn; 0.0352\n",
       "                \n",
       "            </td>\n",
       "            <td style=\"padding: 0 0.5em 0 0.5em; text-align: left; border: none;\">\n",
       "                BILL_AMT_9\n",
       "            </td>\n",
       "        </tr>\n",
       "    \n",
       "        <tr style=\"background-color: hsl(120, 100.00%, 96.75%); border: none;\">\n",
       "            <td style=\"padding: 0 1em 0 0.5em; text-align: right; border: none;\">\n",
       "                0.0220\n",
       "                \n",
       "                    &plusmn; 0.0366\n",
       "                \n",
       "            </td>\n",
       "            <td style=\"padding: 0 0.5em 0 0.5em; text-align: left; border: none;\">\n",
       "                PAY_AMT_6\n",
       "            </td>\n",
       "        </tr>\n",
       "    \n",
       "        <tr style=\"background-color: hsl(120, 100.00%, 96.91%); border: none;\">\n",
       "            <td style=\"padding: 0 1em 0 0.5em; text-align: right; border: none;\">\n",
       "                0.0205\n",
       "                \n",
       "                    &plusmn; 0.0386\n",
       "                \n",
       "            </td>\n",
       "            <td style=\"padding: 0 0.5em 0 0.5em; text-align: left; border: none;\">\n",
       "                PAY_AMT_5\n",
       "            </td>\n",
       "        </tr>\n",
       "    \n",
       "        <tr style=\"background-color: hsl(120, 100.00%, 97.04%); border: none;\">\n",
       "            <td style=\"padding: 0 1em 0 0.5em; text-align: right; border: none;\">\n",
       "                0.0193\n",
       "                \n",
       "                    &plusmn; 0.0262\n",
       "                \n",
       "            </td>\n",
       "            <td style=\"padding: 0 0.5em 0 0.5em; text-align: left; border: none;\">\n",
       "                rest_payment\n",
       "            </td>\n",
       "        </tr>\n",
       "    \n",
       "        <tr style=\"background-color: hsl(120, 100.00%, 97.36%); border: none;\">\n",
       "            <td style=\"padding: 0 1em 0 0.5em; text-align: right; border: none;\">\n",
       "                0.0164\n",
       "                \n",
       "                    &plusmn; 0.0255\n",
       "                \n",
       "            </td>\n",
       "            <td style=\"padding: 0 0.5em 0 0.5em; text-align: left; border: none;\">\n",
       "                BILL_AMT_8\n",
       "            </td>\n",
       "        </tr>\n",
       "    \n",
       "        <tr style=\"background-color: hsl(120, 100.00%, 97.80%); border: none;\">\n",
       "            <td style=\"padding: 0 1em 0 0.5em; text-align: right; border: none;\">\n",
       "                0.0126\n",
       "                \n",
       "                    &plusmn; 0.0311\n",
       "                \n",
       "            </td>\n",
       "            <td style=\"padding: 0 0.5em 0 0.5em; text-align: left; border: none;\">\n",
       "                PAY_AMT_4\n",
       "            </td>\n",
       "        </tr>\n",
       "    \n",
       "        <tr style=\"background-color: hsl(120, 100.00%, 97.90%); border: none;\">\n",
       "            <td style=\"padding: 0 1em 0 0.5em; text-align: right; border: none;\">\n",
       "                0.0117\n",
       "                \n",
       "                    &plusmn; 0.0196\n",
       "                \n",
       "            </td>\n",
       "            <td style=\"padding: 0 0.5em 0 0.5em; text-align: left; border: none;\">\n",
       "                BILL_AMT_5\n",
       "            </td>\n",
       "        </tr>\n",
       "    \n",
       "        <tr style=\"background-color: hsl(120, 100.00%, 98.04%); border: none;\">\n",
       "            <td style=\"padding: 0 1em 0 0.5em; text-align: right; border: none;\">\n",
       "                0.0107\n",
       "                \n",
       "                    &plusmn; 0.0183\n",
       "                \n",
       "            </td>\n",
       "            <td style=\"padding: 0 0.5em 0 0.5em; text-align: left; border: none;\">\n",
       "                BILL_AMT_6\n",
       "            </td>\n",
       "        </tr>\n",
       "    \n",
       "        <tr style=\"background-color: hsl(120, 100.00%, 98.07%); border: none;\">\n",
       "            <td style=\"padding: 0 1em 0 0.5em; text-align: right; border: none;\">\n",
       "                0.0104\n",
       "                \n",
       "                    &plusmn; 0.0181\n",
       "                \n",
       "            </td>\n",
       "            <td style=\"padding: 0 0.5em 0 0.5em; text-align: left; border: none;\">\n",
       "                BILL_AMT_7\n",
       "            </td>\n",
       "        </tr>\n",
       "    \n",
       "        <tr style=\"background-color: hsl(120, 100.00%, 98.08%); border: none;\">\n",
       "            <td style=\"padding: 0 1em 0 0.5em; text-align: right; border: none;\">\n",
       "                0.0104\n",
       "                \n",
       "                    &plusmn; 0.0148\n",
       "                \n",
       "            </td>\n",
       "            <td style=\"padding: 0 0.5em 0 0.5em; text-align: left; border: none;\">\n",
       "                BILL_AMT_4\n",
       "            </td>\n",
       "        </tr>\n",
       "    \n",
       "    \n",
       "        \n",
       "            <tr style=\"background-color: hsl(120, 100.00%, 98.08%); border: none;\">\n",
       "                <td colspan=\"2\" style=\"padding: 0 0.5em 0 0.5em; text-align: center; border: none; white-space: nowrap;\">\n",
       "                    <i>&hellip; 9 more &hellip;</i>\n",
       "                </td>\n",
       "            </tr>\n",
       "        \n",
       "    \n",
       "    </tbody>\n",
       "</table>\n",
       "    \n",
       "\n",
       "    \n",
       "\n",
       "\n",
       "    \n",
       "\n",
       "    \n",
       "\n",
       "    \n",
       "\n",
       "    \n",
       "\n",
       "    \n",
       "\n",
       "    \n",
       "\n",
       "\n",
       "\n"
      ],
      "text/plain": [
       "Explanation(estimator=\"RandomForestClassifier(class_weight='balanced', max_depth=10,\\n                       min_samples_leaf=100, min_samples_split=8, n_jobs=-1,\\n                       random_state=123)\", description='\\nRandom forest feature importances; values are numbers 0 <= x <= 1;\\nall values sum to 1.\\n', error=None, method='feature importances', is_regression=False, targets=None, feature_importances=FeatureImportances(importances=[FeatureWeight(feature='PAY_9', weight=0.29496316045229315, std=0.20356324141650106, value=None), FeatureWeight(feature='PAY_8', weight=0.13676416339305494, std=0.18233605691310778, value=None), FeatureWeight(feature='PAY_6', weight=0.08733904836247743, std=0.12386655063209046, value=None), FeatureWeight(feature='PAY_7', weight=0.07983181082106623, std=0.12627435752255084, value=None), FeatureWeight(feature='PAY_5', weight=0.04957526826337527, std=0.08600958269095789, value=None), FeatureWeight(feature='PAY_AMT_9', weight=0.04166470531852243, std=0.03790356038792156, value=None), FeatureWeight(feature='PAY_AMT_8', weight=0.03795695064743163, std=0.03796606098880849, value=None), FeatureWeight(feature='LIMIT_BAL', weight=0.037061318302206235, std=0.030413648859625112, value=None), FeatureWeight(feature='PAY_4', weight=0.03053224853067901, std=0.06695439465684853, value=None), FeatureWeight(feature='PAY_AMT_7', weight=0.030429829218792656, std=0.029541033377471063, value=None), FeatureWeight(feature='BILL_AMT_9', weight=0.02469237254611903, std=0.017601351407372866, value=None), FeatureWeight(feature='PAY_AMT_6', weight=0.02199657726933463, std=0.01828701868016057, value=None), FeatureWeight(feature='PAY_AMT_5', weight=0.020478364577605733, std=0.019280306659088003, value=None), FeatureWeight(feature='rest_payment', weight=0.019254593800270982, std=0.01312201154437854, value=None), FeatureWeight(feature='BILL_AMT_8', weight=0.016369454063353227, std=0.012755226333325109, value=None), FeatureWeight(feature='PAY_AMT_4', weight=0.01255995691797191, std=0.015565272505280857, value=None), FeatureWeight(feature='BILL_AMT_5', weight=0.011748949617640683, std=0.009782446198116261, value=None), FeatureWeight(feature='BILL_AMT_6', weight=0.010668861833044609, std=0.009139188859917468, value=None), FeatureWeight(feature='BILL_AMT_7', weight=0.01044713158566079, std=0.009064188173955736, value=None), FeatureWeight(feature='BILL_AMT_4', weight=0.010397558158333566, std=0.007387611490058356, value=None)], remaining=9), decision_tree=None, highlight_spaces=None, transition_features=None, image=None)"
      ]
     },
     "execution_count": 53,
     "metadata": {},
     "output_type": "execute_result"
    }
   ],
   "source": [
    "import eli5\n",
    "\n",
    "eli5_rf = eli5.explain_weights(\n",
    "    best_rf_pipe.named_steps[\"randomforestclassifier\"], feature_names= column_names\n",
    ")\n",
    "eli5_rf"
   ]
  },
  {
   "cell_type": "markdown",
   "metadata": {
    "tags": []
   },
   "source": [
    "PAY_9 is the most important feature relying on the RandomForestClassifier. Feature PAY_9 has the widest bar representing that the average impact on model output magnitude is significantly influenced by this feature. PAY_n features are important to the model. The series of BILL_AMT_n becomes the less important feature. SEX, MARRIAGE, and EDUCATION do not seem to be an impact on model output. It is noteworthy that our engineered feature rest_payment can not be an impact factor during using the RandomForestClassifier."
   ]
  },
  {
   "cell_type": "markdown",
   "metadata": {},
   "source": [
    "<!-- END QUESTION -->\n",
    "\n",
    "<br><br>"
   ]
  },
  {
   "cell_type": "markdown",
   "metadata": {},
   "source": [
    "### Results on the test set"
   ]
  },
  {
   "cell_type": "code",
   "execution_count": 54,
   "metadata": {
    "tags": []
   },
   "outputs": [
    {
     "name": "stdout",
     "output_type": "stream",
     "text": [
      "best_score_rf: 0.6269170305963039\n",
      "test_score_f1: 0.5269331016507385\n",
      "test_score_recall 0.6226899383983573\n",
      "test_score_precision 0.4567018072289157\n"
     ]
    }
   ],
   "source": [
    "best_score_rf= grid_search_rf.best_score_\n",
    "\n",
    "pred = best_rf_pipe.predict(X_test)\n",
    "test_score_f1 = f1_score(y_test, pred)\n",
    "test_score_recall = recall_score(y_test, pred)\n",
    "test_score_precision = precision_score(y_test, pred)\n",
    "\n",
    "print(\"best_score_rf:\", best_score_rf)\n",
    "print(\"test_score_f1:\", test_score_f1)\n",
    "print(\"test_score_recall\", test_score_recall)\n",
    "print(\"test_score_precision\", test_score_precision)"
   ]
  },
  {
   "cell_type": "markdown",
   "metadata": {
    "tags": []
   },
   "source": [
    "test_score_recall is 0.620 and validation scores 0.627 which are very similar, which suggests that the models generalize well. The similarity between the test_score_recall and validation also suggests that we don't have a significant overfitting problem. By using hard predictions, we only obtain the class label, whereas 'predict_proba' provides probability scores instead of just the sign.\n",
    "\n",
    "Since our dataset is small, the validation set might have been sampled too frequently, leading to optimization bias."
   ]
  },
  {
   "cell_type": "code",
   "execution_count": 55,
   "metadata": {
    "tags": []
   },
   "outputs": [],
   "source": [
    "X_test_enc = pd.DataFrame(\n",
    "    data= preprocessor.transform(X_test),\n",
    "    columns= column_names,\n",
    "    index= X_test.index,\n",
    ")\n",
    "\n",
    "test_rf_shap_values = rf_explainer.shap_values(X_test_enc)"
   ]
  },
  {
   "cell_type": "code",
   "execution_count": 56,
   "metadata": {
    "tags": []
   },
   "outputs": [
    {
     "data": {
      "text/plain": [
       "(array([   0,    1,    4, ..., 8996, 8997, 8999]),\n",
       " array([   2,    3,   10, ..., 8993, 8995, 8998]))"
      ]
     },
     "execution_count": 56,
     "metadata": {},
     "output_type": "execute_result"
    }
   ],
   "source": [
    "not_default_indices, default_indices = y_test.reset_index().groupby('default_pay').indices.values()\n",
    "not_default_indices, default_indices"
   ]
  },
  {
   "cell_type": "code",
   "execution_count": 57,
   "metadata": {
    "tags": []
   },
   "outputs": [
    {
     "data": {
      "text/plain": [
       "17"
      ]
     },
     "execution_count": 57,
     "metadata": {},
     "output_type": "execute_result"
    }
   ],
   "source": [
    "ex_not_default_index = not_default_indices[10]\n",
    "ex_not_default_index"
   ]
  },
  {
   "cell_type": "code",
   "execution_count": 58,
   "metadata": {
    "tags": []
   },
   "outputs": [
    {
     "name": "stdout",
     "output_type": "stream",
     "text": [
      "Probabilities of prediction:  [0.7440447 0.2559553]\n",
      "Prediction:  0\n",
      "base value 0.5005639899492955\n"
     ]
    },
    {
     "name": "stderr",
     "output_type": "stream",
     "text": [
      "X has feature names, but RandomForestClassifier was fitted without feature names\n",
      "X has feature names, but RandomForestClassifier was fitted without feature names\n"
     ]
    }
   ],
   "source": [
    "print(\"Probabilities of prediction: \",best_rf_pipe.named_steps[\"randomforestclassifier\"].predict_proba(X_test_enc)[ex_not_default_index])\n",
    "print(\"Prediction: \",best_rf_pipe.named_steps[\"randomforestclassifier\"].predict(X_test_enc)[ex_not_default_index])\n",
    "\n",
    "print(\"base value\", rf_explainer.expected_value[1])"
   ]
  },
  {
   "cell_type": "code",
   "execution_count": 59,
   "metadata": {
    "tags": []
   },
   "outputs": [
    {
     "data": {
      "image/png": "[encoded data removed]",
      "text/plain": [
       "<Figure size 2000x300 with 1 Axes>"
      ]
     },
     "metadata": {},
     "output_type": "display_data"
    }
   ],
   "source": [
    "shap.force_plot(\n",
    "    base_value=rf_explainer.expected_value[0],\n",
    "    shap_values=test_rf_shap_values[0][ex_not_default_index, :],\n",
    "    features=X_test_enc.iloc[ex_not_default_index, :],\n",
    "    matplotlib=True,\n",
    ")"
   ]
  },
  {
   "cell_type": "markdown",
   "metadata": {
    "tags": []
   },
   "source": [
    "The prediction is pushed by the main factors from the base value to the class 0. In this example, the client will likely not default. "
   ]
  },
  {
   "cell_type": "code",
   "execution_count": 60,
   "metadata": {
    "tags": []
   },
   "outputs": [
    {
     "data": {
      "text/plain": [
       "40"
      ]
     },
     "execution_count": 60,
     "metadata": {},
     "output_type": "execute_result"
    }
   ],
   "source": [
    "ex_default_index = default_indices[10]\n",
    "ex_default_index"
   ]
  },
  {
   "cell_type": "code",
   "execution_count": 61,
   "metadata": {
    "tags": []
   },
   "outputs": [
    {
     "name": "stdout",
     "output_type": "stream",
     "text": [
      "Probabilities of prediction:  [0.31113902 0.68886098]\n",
      "Prediction:  1\n",
      "base value 0.5005639899492955\n"
     ]
    },
    {
     "name": "stderr",
     "output_type": "stream",
     "text": [
      "X has feature names, but RandomForestClassifier was fitted without feature names\n",
      "X has feature names, but RandomForestClassifier was fitted without feature names\n"
     ]
    }
   ],
   "source": [
    "print(\"Probabilities of prediction: \",best_rf_pipe.named_steps[\"randomforestclassifier\"].predict_proba(X_test_enc)[ex_default_index])\n",
    "print(\"Prediction: \",best_rf_pipe.named_steps[\"randomforestclassifier\"].predict(X_test_enc)[ex_default_index])\n",
    "\n",
    "print(\"base value\", rf_explainer.expected_value[1])"
   ]
  },
  {
   "cell_type": "code",
   "execution_count": 62,
   "metadata": {
    "tags": []
   },
   "outputs": [
    {
     "data": {
      "image/png": "[encoded data removed]",
      "text/plain": [
       "<Figure size 2000x300 with 1 Axes>"
      ]
     },
     "metadata": {},
     "output_type": "display_data"
    }
   ],
   "source": [
    "shap.force_plot(\n",
    "    base_value=rf_explainer.expected_value[1],\n",
    "    shap_values=test_rf_shap_values[1][ex_default_index, :],\n",
    "    features=X_test_enc.iloc[ex_default_index, :],\n",
    "    matplotlib=True,\n",
    ")"
   ]
  },
  {
   "cell_type": "markdown",
   "metadata": {
    "tags": []
   },
   "source": [
    "The raw model score is 0.72, which is larger than the base value 00.500565594 and so the prediction is that the user is likely to default on the credit payment (class 1).\n",
    "\n",
    "Negative values for PAY_* variables seem to push the prediction towards a higher value. "
   ]
  },
  {
   "cell_type": "markdown",
   "metadata": {},
   "source": [
    "<!-- END QUESTION -->\n",
    "\n",
    "<br><br>"
   ]
  },
  {
   "cell_type": "markdown",
   "metadata": {},
   "source": [
    "### Summary of results"
   ]
  },
  {
   "cell_type": "markdown",
   "metadata": {
    "tags": []
   },
   "source": [
    "After conducting hyperparameter tuning and optimizing the scoring metric for recall, we observed a significant increase in the validation score for the Random Forest model. Our goal was to achieve a high recall score while maintaining a reasonable precision score. Based on our evaluation, we have selected the Random Forest model as our final choice. Both the Random Forest and Logistic Regression models exhibit similar recall scores of 0.627 and 0.648, respectively. However, the Random Forest model outperforms Logistic Regression in terms of precision score, and F1 score, and also demonstrates a lower standard deviation of 0.015. These factors indicate that the Random Forest model strikes a better balance between identifying positive instances and minimizing false positives. By choosing the Random Forest model, we can expect improved overall performance and reliability in predicting positive instances(default payment). This decision takes into account not only the recall score but also other important evaluation metrics."
   ]
  },
  {
   "cell_type": "markdown",
   "metadata": {},
   "source": [
    "Dealing with class imbalance is crucial given the highly imbalanced nature of the dataset. While collecting more data would be ideal, it may not always be feasible in real-world scenarios. Alternatively, we can employ resampling techniques to address the class imbalance challenge. In addition to addressing the class imbalance, we can further enhance our approach by optimizing the threshold hyperparameter. The default threshold may not provide the optimal interpretation of predicted probabilities. To achieve higher recall test scores, we can adjust the threshold of the \"predict_proba\" function to a smaller value, thus identifying more instances of default payments. This adjustment allows us to prioritize capturing positive instances even at the cost of potential false positives. Furthermore, depending on the specific interpretation requirements, we can explore alternative models instead of ensembles to obtain a more interpretable model. This consideration ensures that the model's predictions are easily understandable and explainable, aligning with the desired level of interpretability required for the task at hand."
   ]
  },
  {
   "cell_type": "markdown",
   "metadata": {},
   "source": [
    "Our final test score by the best Random forest model has a test f1 score of 0.527, a test recall score of 0.620 and a test precision score of 0.455."
   ]
  },
  {
   "cell_type": "markdown",
   "metadata": {},
   "source": [
    "The main takeaway from this project lies in recognizing the significance of data cleaning and thorough dataset analysis prior to model building. These preliminary steps are crucial in ensuring the reliability and effectiveness of the model. Additionally, it is essential to understand the purpose of model predictions in order to decide which metrics to use, as they provide valuable insights into the model's performance."
   ]
  }
 ],
 "metadata": {
  "kernelspec": {
   "display_name": "Python [conda env:cpsc330]",
   "language": "python",
   "name": "conda-env-cpsc330-py"
  },
  "language_info": {
   "codemirror_mode": {
    "name": "ipython",
    "version": 3
   },
   "file_extension": ".py",
   "mimetype": "text/x-python",
   "name": "python",
   "nbconvert_exporter": "python",
   "pygments_lexer": "ipython3",
   "version": "3.10.11"
  },
  "otter": {
   "OK_FORMAT": true,
   "tests": {}
  }
 },
 "nbformat": 4,
 "nbformat_minor": 4
}
